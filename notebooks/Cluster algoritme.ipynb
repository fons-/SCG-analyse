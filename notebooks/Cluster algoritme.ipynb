{
 "cells": [
  {
   "cell_type": "code",
   "execution_count": 2,
   "metadata": {},
   "outputs": [],
   "source": [
    "from pathlib import Path\n",
    "import pandas as pd\n",
    "import numpy as np\n",
    "import matplotlib.pyplot as plt\n",
    "import datetime\n",
    "\n",
    "%config InlineBackend.figure_format = 'retina'\n",
    "plt.rcParams['figure.figsize'] = [12, 6]"
   ]
  },
  {
   "cell_type": "code",
   "execution_count": 3,
   "metadata": {},
   "outputs": [],
   "source": [
    "data_path = \"../data/origineel\"\n",
    "\n",
    "if not Path(data_path).is_dir():\n",
    "    raise Warning(\"Data path does not exist\")"
   ]
  },
  {
   "cell_type": "code",
   "execution_count": 5,
   "metadata": {},
   "outputs": [],
   "source": [
    "data_file_paths = [p for p in Path(data_path).iterdir() if p.suffix==\".csv\"]"
   ]
  },
  {
   "cell_type": "code",
   "execution_count": 6,
   "metadata": {},
   "outputs": [],
   "source": [
    "cableconfig = pd.read_csv(data_file_paths[3], sep=\";\")\n",
    "partialdischarges = pd.read_csv(data_file_paths[4], sep=\";\")\n",
    "warning = pd.read_csv(data_file_paths[5], sep=\";\")"
   ]
  },
  {
   "cell_type": "code",
   "execution_count": 7,
   "metadata": {},
   "outputs": [],
   "source": [
    "# Namen van de kolommen\n",
    "time_col, location_col, charge_col = partialdischarges.columns\n",
    "\n",
    "# Check that each row either has location and charge undefinied, or both defined:\n",
    "for i in np.arange(len(partialdischarges))[np.isnan(partialdischarges[location_col]) != np.isnan(partialdischarges[charge_col])]:\n",
    "    raise Warning(f\"Row {i} has missing values\")\n",
    "\n",
    "# Lijst met bools die aangeeft of er op dat tijdstip een PD was\n",
    "pd_occured = ~np.isnan(partialdischarges[location_col])\n",
    "\n",
    "# De drie kolommen; alleen op tijdstippen met PD\n",
    "locations = partialdischarges[location_col][pd_occured]\n",
    "charges = partialdischarges[charge_col][pd_occured]\n",
    "times = partialdischarges[time_col][pd_occured].apply(datetime.datetime.fromisoformat)"
   ]
  },
  {
   "cell_type": "markdown",
   "metadata": {},
   "source": [
    "# Het algoritme"
   ]
  },
  {
   "cell_type": "markdown",
   "metadata": {},
   "source": [
    "Het algoritme is gebaseerd op DBSCAN (https://en.wikipedia.org/wiki/DBSCAN#Algorithm)"
   ]
  },
  {
   "cell_type": "code",
   "execution_count": 8,
   "metadata": {},
   "outputs": [],
   "source": [
    "def distance(x,y):\n",
    "    return abs(x-y)\n",
    "\n",
    "def neighbors(DB, distfunc, Q, eps):\n",
    "    neighborhood=[]\n",
    "    for P in DB: \n",
    "        if distance(Q,P)<eps:\n",
    "            neighborhood.append(P)\n",
    "    return neighborhood\n",
    "\n",
    "def DBSCAN(DB, distfunc, eps, minPts):\n",
    "    cluster = []\n",
    "    noise = []\n",
    "    undefined = []\n",
    "    for p in DB:\n",
    "        undefined.append(p)\n",
    "    for p in DB:\n",
    "        if p not in undefined:\n",
    "            continue\n",
    "        N = neighbors(DB, distfunc, p, eps)\n",
    "        if len(N) < minPts:\n",
    "            noise.append(p)\n",
    "            undefined.remove(p)\n",
    "            continue\n",
    "        cluster.append(p)\n",
    "        undefined.remove(p)\n",
    "        S = N\n",
    "        S.remove(p)\n",
    "        while len(list(set(S).intersection(undefined)))>0:\n",
    "            for q in S:\n",
    "                if q in noise:\n",
    "                    noise.remove(q)\n",
    "                    cluster.append(q)\n",
    "                if q not in undefined:\n",
    "                    continue\n",
    "                cluster.append(q)\n",
    "                undefined.remove(q)\n",
    "                N = neighbors(DB, distfunc, q, eps)\n",
    "                if len(N) > minPts:\n",
    "                    S = list(set(S).union(N))\n",
    "        print(sum(cluster)/len(cluster))\n",
    "        cluster = []\n",
    "  \n",
    "    \n",
    "                \n",
    "                \n",
    "        \n",
    "    "
   ]
  },
  {
   "cell_type": "code",
   "execution_count": 13,
   "metadata": {},
   "outputs": [
    {
     "name": "stdout",
     "output_type": "stream",
     "text": [
      "349.0109393694159\n",
      "605.926646845053\n"
     ]
    }
   ],
   "source": [
    "DBSCAN(locations, distance, 3, 375)"
   ]
  },
  {
   "cell_type": "markdown",
   "metadata": {},
   "source": [
    "Dit duurde 8 minuten. De parameters zijn willekeurig gekozen, dus het resultaat zal waarschijnlijk niet kloppen. "
   ]
  }
 ],
 "metadata": {
  "kernelspec": {
   "display_name": "venv",
   "language": "python",
   "name": "venv"
  },
  "language_info": {
   "codemirror_mode": {
    "name": "ipython",
    "version": 3
   },
   "file_extension": ".py",
   "mimetype": "text/x-python",
   "name": "python",
   "nbconvert_exporter": "python",
   "pygments_lexer": "ipython3",
   "version": "3.7.2"
  }
 },
 "nbformat": 4,
 "nbformat_minor": 2
}
