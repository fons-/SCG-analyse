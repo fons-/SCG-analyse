{
 "cells": [
  {
   "cell_type": "markdown",
   "metadata": {},
   "source": [
    "# Analyse verdeling PDs binnen een cluster\n",
    "De lopende hypothese is dat PDs binnen een cluster normaal verdeeld zijn. Hierbij een poging om van de verschillende datasets binnen de gevonden clusters de parameters ($\\mu$ en $\\sigma$) voor een normale verdeling af te leiden.\n",
    "Hierbij is het gemiddelde $\\mu$ de meest waarschijnlijke plek waar de fout in de kabel zit, en de standaarddeviatie $\\sigma$ hangt waarschijnlijk af van de nauwkeurigheid van de meting.\n",
    "$\\mu$ is voor de dataanalyse dus niet zo interessant, maar voor de monteurs in het veld wel. Bij $\\sigma$ is dat omgekeerd: Als die tussen de verschillende clusters niet veel varieert, kunnen we daaruit conclusies trekken."
   ]
  },
  {
   "cell_type": "code",
   "execution_count": 1,
   "metadata": {},
   "outputs": [],
   "source": [
    "from pathlib import Path\n",
    "import pandas as pd\n",
    "import numpy as np\n",
    "import matplotlib.pyplot as plt\n",
    "import scipy.stats\n",
    "import datetime\n",
    "from pandas.plotting import register_matplotlib_converters\n",
    "register_matplotlib_converters()\n",
    "import ipywidgets\n",
    "from IPython.display import display, clear_output, Javascript, Markdown\n",
    "\n",
    "import poisson_clustering as ps"
   ]
  },
  {
   "cell_type": "code",
   "execution_count": 54,
   "metadata": {},
   "outputs": [
    {
     "name": "stdout",
     "output_type": "stream",
     "text": [
      "2806\n"
     ]
    }
   ],
   "source": [
    "circuits, cable_config, partial_discharges, warning = ps.load_data()\n",
    "circ = circuits[4]\n",
    "print(circ)\n",
    "# Lengte van de kabel is gegeven in de cable config\n",
    "cable_length = cable_config[circ]['Cumulative length (m)'].values[-1]\n",
    "pardis = partial_discharges[circ]"
   ]
  },
  {
   "cell_type": "code",
   "execution_count": 55,
   "metadata": {},
   "outputs": [],
   "source": [
    "boolean_series, locations, charges, times, bins = ps.identify_suspicious_areas(pardis, cable_length)"
   ]
  },
  {
   "cell_type": "code",
   "execution_count": 66,
   "metadata": {},
   "outputs": [
    {
     "name": "stdout",
     "output_type": "stream",
     "text": [
      "{(275, 282), (211, 229)}\n"
     ]
    }
   ],
   "source": [
    "clusters = ps.cluster_boolean_series(boolean_series)\n",
    "print(clusters)"
   ]
  },
  {
   "cell_type": "code",
   "execution_count": 67,
   "metadata": {
    "scrolled": false
   },
   "outputs": [
    {
     "data": {
      "image/png": "[encoded data removed]",
      "text/plain": [
       "<Figure size 576x576 with 2 Axes>"
      ]
     },
     "metadata": {
      "needs_background": "light"
     },
     "output_type": "display_data"
    }
   ],
   "source": [
    "ps.show_plot(locations, times, charges, bins, clusters, circ)"
   ]
  },
  {
   "cell_type": "code",
   "execution_count": 65,
   "metadata": {},
   "outputs": [
    {
     "data": {
      "text/plain": [
       "[(844.0, 884.0)]"
      ]
     },
     "execution_count": 65,
     "metadata": {},
     "output_type": "execute_result"
    }
   ],
   "source": [
    "clusters_meters = sorted([tuple(a*4.0 for a in x) for x in clusters], key=lambda x: x[0])\n",
    "clusters_meters"
   ]
  },
  {
   "cell_type": "code",
   "execution_count": 42,
   "metadata": {},
   "outputs": [],
   "source": [
    "def normal_parameters(locations, clusters):\n",
    "    result = []\n",
    "    for current_cluster in clusters:\n",
    "        min_location, max_location = current_cluster[0], current_cluster[1]\n",
    "        cluster_bools = [min_location <= loc <= max_location for loc in locations] \n",
    "        cluster_pds = locations[cluster_bools]\n",
    "        mu = np.mean(cluster_pds)\n",
    "        sigma = np.std(cluster_pds)\n",
    "        result.append((current_cluster, max_location-min_location, mu, sigma))\n",
    "    return result"
   ]
  },
  {
   "cell_type": "code",
   "execution_count": 43,
   "metadata": {},
   "outputs": [
    {
     "data": {
      "text/plain": [
       "[((928.0, 968.0), 40.0, 944.8126273169269, 7.873172965310522),\n",
       " ((864.0, 904.0), 40.0, 885.8054537595333, 9.713855577922422)]"
      ]
     },
     "execution_count": 43,
     "metadata": {},
     "output_type": "execute_result"
    }
   ],
   "source": [
    "normal_parameters(locations, clusters_meters)"
   ]
  },
  {
   "cell_type": "code",
   "execution_count": 44,
   "metadata": {},
   "outputs": [],
   "source": [
    "def calculate_all_normal_parameters():\n",
    "    circuits, cable_config, partial_discharges, warning = ps.load_data()\n",
    "    result = []\n",
    "    for circ in circuits:\n",
    "        # Lengte van de kabel is gegeven in de cable config\n",
    "        cable_length = cable_config[circ]['Cumulative length (m)'].values[-1]\n",
    "        pardis = partial_discharges[circ]\n",
    "        boolean_series, locations, charges, times, bins = ps.identify_suspicious_areas(pardis, cable_length)\n",
    "        clusters = ps.cluster_boolean_series(boolean_series)\n",
    "        clusters_meters = [tuple(a*4.0 for a in x) for x in clusters]\n",
    "        result.extend([tuple((circ,)) + x for x in normal_parameters(locations, clusters_meters)])\n",
    "    return result"
   ]
  },
  {
   "cell_type": "code",
   "execution_count": 45,
   "metadata": {},
   "outputs": [],
   "source": [
    "parameters = calculate_all_normal_parameters()"
   ]
  },
  {
   "cell_type": "code",
   "execution_count": 48,
   "metadata": {},
   "outputs": [
    {
     "name": "stdout",
     "output_type": "stream",
     "text": [
      "| 2806 | (1100.0, 1128.0) | 28.0 | 1108.1367176121896 | 1.6550244993312642 | \n",
      "| 2870 | (976.0, 988.0) | 12.0 | 980.8829568609435 | 3.2315252213453234 | \n",
      "| 2870 | (0.0, 12.0) | 12.0 | 2.208600859734895 | 3.450029384328724 | \n",
      "| 2063 | (0.0, 12.0) | 12.0 | 3.157297178377678 | 3.542063847856088 | \n",
      "| 2870 | (1256.0, 1272.0) | 16.0 | 1263.633490127769 | 3.844411015211924 | \n",
      "| 1512 | (812.0, 836.0) | 24.0 | 818.8282229311151 | 4.0750709785626915 | \n",
      "| 2870 | (364.0, 396.0) | 32.0 | 381.3406431015938 | 5.090581865328526 | \n",
      "| 1512 | (848.0, 872.0) | 24.0 | 860.7841499817422 | 5.105355267443109 | \n",
      "| 1512 | (1296.0, 1328.0) | 32.0 | 1309.1197584288266 | 5.1727821718132905 | \n",
      "| 2870 | (928.0, 948.0) | 20.0 | 937.7080137337477 | 5.291165597102782 | \n",
      "| 2870 | (756.0, 784.0) | 28.0 | 772.0914509772138 | 5.47134252876542 | \n",
      "| 2806 | (844.0, 916.0) | 72.0 | 873.5697521097876 | 5.550966954094647 | \n",
      "| 1512 | (776.0, 800.0) | 24.0 | 788.6945850812148 | 5.787196445265007 | \n",
      "| 2063 | (328.0, 364.0) | 36.0 | 348.22656825520846 | 7.431155652770754 | \n",
      "| 2063 | (576.0, 628.0) | 52.0 | 605.1983187873076 | 7.717696711293299 | \n",
      "| 2145 | (928.0, 968.0) | 40.0 | 944.8126273169269 | 7.873172965310522 | \n",
      "| 2063 | (256.0, 288.0) | 32.0 | 270.66469077090255 | 8.370085399924362 | \n",
      "| 1512 | (348.0, 376.0) | 28.0 | 362.74449954698423 | 8.963991042203217 | \n",
      "| 2145 | (864.0, 904.0) | 40.0 | 885.8054537595333 | 9.713855577922422 | \n",
      "| 2063 | (492.0, 544.0) | 52.0 | 522.3236260533382 | 11.662159186970019 | \n",
      "\n"
     ]
    }
   ],
   "source": [
    "mus = [x[2] for x in parameters]\n",
    "sigmas = [x[3] for x in parameters]\n",
    "sigmas = np.sort(sigmas)\n",
    "parameters = sorted(parameters, key=lambda x: x[4])\n",
    "result = \"\"\n",
    "for x in parameters:\n",
    "    result += \"| \"\n",
    "    for i in range(0,5):\n",
    "        result += str(x[i]) + \" | \"\n",
    "    result += \"\\n\"\n",
    "print(result)"
   ]
  },
  {
   "cell_type": "markdown",
   "metadata": {},
   "source": [
    "# Resultaten\n",
    "\n",
    "| Circuit | Cluster | Lengte cluster | Gemiddelde $\\mu$ | Standaarddeviatie $\\sigma$ |\n",
    "|------|------------------|------|--------------------|--------------------|\n",
    "| 2806 | (1100.0, 1128.0) | 28.0 | 1108.1367176121896 | 1.6550244993312642 | \n",
    "| 2870 | (976.0, 988.0)   | 12.0 | 980.8829568609435  | 3.2315252213453234 | \n",
    "| 2870 | (0.0, 12.0)      | 12.0 | 2.208600859734895  | 3.450029384328724  | \n",
    "| 2063 | (0.0, 12.0)      | 12.0 | 3.157297178377678  | 3.542063847856088  | \n",
    "| 2870 | (1256.0, 1272.0) | 16.0 | 1263.633490127769  | 3.844411015211924  | \n",
    "| 1512 | (812.0, 836.0)   | 24.0 | 818.8282229311151  | 4.0750709785626915 | \n",
    "| 2870 | (364.0, 396.0)   | 32.0 | 381.3406431015938  | 5.090581865328526  | \n",
    "| 1512 | (848.0, 872.0)   | 24.0 | 860.7841499817422  | 5.105355267443109  | \n",
    "| 1512 | (1296.0, 1328.0) | 32.0 | 1309.1197584288266 | 5.1727821718132905 | \n",
    "| 2870 | (928.0, 948.0)   | 20.0 | 937.7080137337477  | 5.291165597102782  | \n",
    "| 2870 | (756.0, 784.0)   | 28.0 | 772.0914509772138  | 5.47134252876542   | \n",
    "| 2806 | (844.0, 916.0)   | 72.0 | 873.5697521097876  | 5.550966954094647  | \n",
    "| 1512 | (776.0, 800.0)   | 24.0 | 788.6945850812148  | 5.787196445265007  | \n",
    "| 2063 | (328.0, 364.0)   | 36.0 | 348.22656825520846 | 7.431155652770754  | \n",
    "| 2063 | (576.0, 628.0)   | 52.0 | 605.1983187873076  | 7.717696711293299  | \n",
    "| 2145 | (928.0, 968.0)   | 40.0 | 944.8126273169269  | 7.873172965310522  | \n",
    "| 2063 | (256.0, 288.0)   | 32.0 | 270.66469077090255 | 8.370085399924362  | \n",
    "| 1512 | (348.0, 376.0)   | 28.0 | 362.74449954698423 | 8.963991042203217  | \n",
    "| 2145 | (864.0, 904.0)   | 40.0 | 885.8054537595333  | 9.713855577922422  | \n",
    "| 2063 | (492.0, 544.0)   | 52.0 | 522.3236260533382  | 11.662159186970019 | \n",
    "\n",
    " \n",
    "\n",
    "**Gemiddelde $\\sigma$**: 5.9499816156421685\n",
    "\n",
    "**Standaarddeviatie van $\\sigma$**: 2.4443024332909373\n",
    "\n",
    "In totaal hebben we 20 clusters. Een beetje een kleine sample size als je het mij vraagt. Het gros van de standaarddeviates zit tussen de 5 en 8, wat ook te zien is aan het gemiddelde van ongeveer 6 en de bovengenoemde standaarddeviatie. Er zijn echter wel een aantal uitschieters die je niet zou verwachten als de standaarddeviaties allemaal ongeveer hetzelfde zouden zijn.\n",
    "\n",
    "De kleinere standaarddeviaties bevinden zich ook vaak bij kleinere clusters (12m). De grotere clusters hebben vaak grotere standaarddeviaties, al zitten er ook wat uitzonderingen tussen.\n",
    "\n",
    "### Handmatige inspectie\n",
    "2806: Het grootste cluster van 72 meter heeft een erg normale standaarddeviatie van 5.55. Bij inzoomen op dit cluster blijkt dat het sterk op normaalverdeelde pds lijkt met het uitgerekende gemiddelde. Het lijkt erop dat dit cluster zo groot is vanwege 2 dingen: Er is een bijzonder lage hoeveelheid ruis, en er zit dan weer juist net een klein beetje ruis rechts van het cluster. Het algoritme rekent deze ruis bij het cluster. Handmatig zou ik deze ruis weg halen en het cluster op zo'n 40 meter groot schatten.\n",
    "\n",
    "2870: Het kleine cluster van 12 meter beginnend bij 0 is gewoon de standaardruis die altijd te zien is bij 0.\n",
    "Het andere kleine cluster (976, 988) wordt door de vele ruis in de rest van het plaatje te klein ingeschat naar mijn mening. Dit zou eigenlijkt (972, 992) moeten zijn, waardoor het cluster 20 meter lang wordt, in plaats van 12 meter.\n",
    "Het cluster (364, 396) bestaat uit 2 verschillende clusters als je het opsplitst naar tijd. Het cluster dat eerst komt in de tijd is correct weergegeven met deze grenzen. Het tweede cluster had beter (368, 404) kunnen zijn. Als je ze samen neemt worden ze redelijk correct weergegeven.\n",
    "\n",
    "1512: Alle clusters lijken correct weergegeven te worden, al kunnen ze misschien wel aan de linker en rechterkant een extra hokje erbij krijgen.\n",
    "\n",
    "### TODO\n",
    "\n",
    "Ik ben erg benieuwd wat er gebeurt met de standaarddeviatie van de verschillende clusters als je een standaardafstand rondom elk gemiddelde van een cluster gebruikt om het cluster te definieren. Oftewel:\n",
    "\n",
    "1) Cluster vinden\n",
    "\n",
    "2) Gemiddelde $\\mu$ bepalen\n",
    "\n",
    "3) Vervang grenzen cluster door ($\\mu-20$, $\\mu+20$)\n",
    "\n",
    "4) Bereken $\\sigma$ (en misschien ook opnieuw $\\mu$)"
   ]
  },
  {
   "cell_type": "code",
   "execution_count": null,
   "metadata": {},
   "outputs": [],
   "source": []
  }
 ],
 "metadata": {
  "kernelspec": {
   "display_name": "Python 3",
   "language": "python",
   "name": "python3"
  },
  "language_info": {
   "codemirror_mode": {
    "name": "ipython",
    "version": 3
   },
   "file_extension": ".py",
   "mimetype": "text/x-python",
   "name": "python",
   "nbconvert_exporter": "python",
   "pygments_lexer": "ipython3",
   "version": "3.5.2"
  }
 },
 "nbformat": 4,
 "nbformat_minor": 2
}
