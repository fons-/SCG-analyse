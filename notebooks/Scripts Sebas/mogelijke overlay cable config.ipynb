{
 "cells": [
  {
   "cell_type": "code",
   "execution_count": null,
   "metadata": {},
   "outputs": [],
   "source": [
    "\n",
    "def overlay_cable_config(circuit, ax=None, line_width=None,  joint_diff_colors=False, only_rmu=False,add_to_legend=False):   \n",
    "    \"\"\"Draw colored lines for every object in the circuit cableconfig. Useful when the same axis was used to draw a location time scatter plot.\n",
    "    Tip: use `clusterizer.plot.legend_without_duplicate_labels(ax)` instead of `ax.legend()`.\n",
    "\n",
    "    :param circuit: Circuit object containing warning series to plot\n",
    "    :type circuit: class:`clusterizer.circuit.MergedCircuit`\n",
    "\n",
    "    :param ax: Axes to draw on. Defaults to `plt.gca()`\n",
    "    :type ax: class:`matplotlib.axes.Axes`, optional\n",
    "=======\n",
    "    if set_title:\n",
    "        ax.set_title(\"Circuit {0}\".format(circuit.circuitnr))\n",
    ">>>>>>> 2be6f07b6ca46aa9663a267ac722b3306a414219\n",
    "\n",
    "    :param line_width: Width of joint line. Defaults to 1% of circuit length.\n",
    "    :type line_width: float, optional\n",
    "\n",
    "<<<<<<< HEAD\n",
    "    :param add_to_legend: Label joint colors?\n",
    "    :type add_to_legend: bool, optional\n",
    "    \"\"\"\n",
    "    if ax is None:\n",
    "        ax = plt.gca()\n",
    "#    jointcolors = {'unknown': 'yellow', 'oil': 'orange', 'heat shrink': 'red', 'cold shrink': 'green'}\n",
    "        \n",
    "    \n",
    "    \n",
    "    cableconfig = circuit.cableconfig\n",
    "    type_col, length_col, cum_length_col = cableconfig.columns\n",
    "    \n",
    "    jointcolors = {}\n",
    "    rmu = cableconfig[cableconfig[type_col]==\"RMU\"]\n",
    "    joints = cableconfig[ cableconfig[type_col].str.startswith(\"Joint\") ]\n",
    "    if(joint_diff_colors):\n",
    "        for joint in joints:\n",
    "            if(!joint[type_col] in jointcolors):\n",
    "                jointcolors.add()\n",
    "            ax.axvline(x=joint[cum_length_col], color=jointcolors[joint[type_col]], line_width=line_width if line_width!=None, label=joint[type_col] if add_to_legend)\n",
    "                \n",
    "    else:\n",
    "        for joint_loc in joints[cum_length_col]:\n",
    "            ax.axvline(x=joint_loc,color=\"red\",line_width=line_width if line_width !=None)\n",
    "    for rmu_loc in rmu[cum_length_col]:\n",
    "        ax.axvline(x=rmu_loc,color=\"blue\",line_width=line_width ifline_width !=None)\n",
    "    \n"
   ]
  }
 ],
 "metadata": {
  "kernelspec": {
   "display_name": "venv",
   "language": "python",
   "name": "venv"
  },
  "language_info": {
   "codemirror_mode": {
    "name": "ipython",
    "version": 3
   },
   "file_extension": ".py",
   "mimetype": "text/x-python",
   "name": "python",
   "nbconvert_exporter": "python",
   "pygments_lexer": "ipython3",
   "version": "3.7.3"
  }
 },
 "nbformat": 4,
 "nbformat_minor": 2
}
