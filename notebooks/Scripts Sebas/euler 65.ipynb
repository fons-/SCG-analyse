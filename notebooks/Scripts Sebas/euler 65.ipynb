{
 "cells": [
  {
   "cell_type": "code",
   "execution_count": 46,
   "metadata": {},
   "outputs": [
    {
     "name": "stdout",
     "output_type": "stream",
     "text": [
      "The numerator is 6963524437876961749120273824619538346438023188214475670667 and the denominator is 2561737478789858711161539537921323010415623148113041714756\n",
      "The answer to Euler Problem 65 is: 272\n"
     ]
    }
   ],
   "source": [
    "import math\n",
    "\n",
    "def cont_frac_s(i):\n",
    "    if(i==0):\n",
    "        return 2\n",
    "    if(i%3==2):\n",
    "        return 2*(i+1)//3\n",
    "    else:\n",
    "        return 1\n",
    "\n",
    "\n",
    "def digit_sum(n):\n",
    "    counter =  0\n",
    "    while(n>0):\n",
    "        counter += n%10\n",
    "        n= n//10\n",
    "    return counter\n",
    "\n",
    "def euclid(a, b):\n",
    "    while(True):\n",
    "        if(a>b):\n",
    "                r =a%b\n",
    "                if(r==0):\n",
    "                    return b\n",
    "                a= r\n",
    "        else:\n",
    "            r =b%a\n",
    "            if(r==0):\n",
    "                return a\n",
    "            b=r\n",
    "\n",
    "def solve_problem(n):\n",
    "    a = cont_frac_s(n-1)\n",
    "    b = 1\n",
    "    for i in range(n-2,-1,-1):\n",
    "        s = cont_frac_s(i)\n",
    "        help = a*s+b\n",
    "        b=a\n",
    "        a=help\n",
    "        e = euclid(a,b)\n",
    "        a = a//e\n",
    "        b = b//e\n",
    "    print(\"The numerator is {} and the denominator is {}\".format(a,b))\n",
    "    return digit_sum(a)\n",
    "\n",
    "print(\"The answer to Euler Problem 65 is: {}\".format(solve_problem(100)))\n",
    "\n",
    "#Het antwoord voor 36 zou 52061284670617417 moeten zijn\n"
   ]
  },
  {
   "cell_type": "code",
   "execution_count": null,
   "metadata": {},
   "outputs": [],
   "source": []
  },
  {
   "cell_type": "code",
   "execution_count": null,
   "metadata": {},
   "outputs": [],
   "source": []
  },
  {
   "cell_type": "code",
   "execution_count": null,
   "metadata": {},
   "outputs": [],
   "source": []
  }
 ],
 "metadata": {
  "kernelspec": {
   "display_name": "venv",
   "language": "python",
   "name": "venv"
  },
  "language_info": {
   "codemirror_mode": {
    "name": "ipython",
    "version": 3
   },
   "file_extension": ".py",
   "mimetype": "text/x-python",
   "name": "python",
   "nbconvert_exporter": "python",
   "pygments_lexer": "ipython3",
   "version": "3.7.3"
  }
 },
 "nbformat": 4,
 "nbformat_minor": 2
}
