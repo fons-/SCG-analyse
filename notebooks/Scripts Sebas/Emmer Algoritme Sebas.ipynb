{
 "cells": [
  {
   "cell_type": "code",
   "execution_count": 1,
   "metadata": {},
   "outputs": [
    {
     "name": "stdout",
     "output_type": "stream",
     "text": [
      "hallo\n"
     ]
    }
   ],
   "source": [
    "from pathlib import Path\n",
    "import pandas as pd\n",
    "import numpy as np\n",
    "import matplotlib.pyplot as plt\n",
    "import datetime\n",
    "import math\n",
    "\n",
    "%config InlineBackend.figure_format = 'retina'\n",
    "plt.rcParams['figure.figsize'] = [12, 6]\n",
    "\n",
    "data_path = \"../../data/origineel\"\n",
    "\n",
    "if not Path(data_path).is_dir():\n",
    "    raise Warning(\"Data path does not exist\")\n",
    "    \n",
    "# Lijst van .csv-bestanden\n",
    "data_file_paths = [p for p in Path(data_path).iterdir() if p.suffix==\".csv\"]\n",
    "\n",
    "# Lees de drie bestanden van het circuit as pandas DataFrame\n",
    "cableconfig = pd.read_csv(data_file_paths[0], sep=\";\")\n",
    "partialdischarges = pd.read_csv(data_file_paths[1], sep=\";\")\n",
    "warning = pd.read_csv(data_file_paths[2], sep=\";\")\n",
    "\n",
    "print(\"hallo\")"
   ]
  },
  {
   "cell_type": "code",
   "execution_count": 2,
   "metadata": {},
   "outputs": [],
   "source": [
    "# Namen van de kolommen\n",
    "time_col, location_col, charge_col = partialdischarges.columns\n",
    "\n",
    "# Check that each row either has location and charge undefinied, or both defined:\n",
    "for i in np.arange(len(partialdischarges))[np.isnan(partialdischarges[location_col]) != np.isnan(partialdischarges[charge_col])]:\n",
    "    raise Warning(f\"Row {i} has missing values\")\n",
    "\n",
    "# Lijst met bools die aangeeft of er op dat tijdstip een PD was\n",
    "pd_occured = ~np.isnan(partialdischarges[location_col])\n",
    "\n",
    "# De drie kolommen; alleen op tijdstippen met PD\n",
    "locations = partialdischarges[location_col][pd_occured]\n",
    "charges = partialdischarges[charge_col][pd_occured]\n",
    "times = partialdischarges[time_col][pd_occured].apply(datetime.datetime.fromisoformat)"
   ]
  },
  {
   "cell_type": "code",
   "execution_count": 9,
   "metadata": {},
   "outputs": [],
   "source": [
    "REL_DENSITY_HIGH_BUCKET = 2\n",
    "NR_BUCKETS_LOC = 5000\n",
    "NR_BUCKETS_TIME = 1\n",
    "CLUSTER_RANGE = 10\n",
    "MINIMUM_CLUSTER_SIZE = 2"
   ]
  },
  {
   "cell_type": "code",
   "execution_count": 10,
   "metadata": {},
   "outputs": [],
   "source": [
    "def fill_buckets(locations, nr_buckets, min_loc, max_loc):\n",
    "    buckets = [0] * nr_buckets\n",
    "    for x in locations:\n",
    "        buckets[math.floor(nr_buckets*(x-min_loc)/(max_loc-min_loc))] +=1\n",
    "    return buckets\n",
    "\n",
    "def hi_dens_buckets(buckets, avg_dens, nr_buckets, rel_dens_hi):\n",
    "    hi_buckets = []\n",
    "    for i in range(nr_buckets):\n",
    "        if(buckets[i]>=rel_dens_hi*avg_dens):\n",
    "            hi_buckets.append(i)\n",
    "    return hi_buckets\n",
    "\n",
    "def connected_points(index, hi_buckets, cluster_range):\n",
    "    i = index + 1\n",
    "    while(i+1<len(hi_buckets)and hi_buckets[i+1]-hi_buckets[i]<cluster_range):\n",
    "        i +=1\n",
    "    return i-1\n",
    "\n",
    "            \n",
    "def find_clusters(hi_buckets, cluster_range, min_cluster_size, min_loc, max_loc):\n",
    "    left = 0\n",
    "    while left < len(hi_buckets) :\n",
    "        right = connected_points(left, hi_buckets, cluster_range)\n",
    "        if(right-left>=min_cluster_size):\n",
    "                        \n",
    "            print(\"[%s , %s]\\n\" % (hi_buckets[left], hi_buckets[right]))\n",
    "        left = right+1\n"
   ]
  },
  {
   "cell_type": "code",
   "execution_count": 11,
   "metadata": {},
   "outputs": [
    {
     "name": "stdout",
     "output_type": "stream",
     "text": [
      "[622 , 1320]\n",
      "\n",
      "[1323 , 1385]\n",
      "\n",
      "[1388 , 1447]\n",
      "\n",
      "[1450 , 2206]\n",
      "\n"
     ]
    }
   ],
   "source": [
    "locations_sorted = sorted(locations)\n",
    "buckets = fill_buckets(locations_sorted, NR_BUCKETS_LOC, 0, 3000)\n",
    "hi_buckets = hi_dens_buckets(buckets, len(locations)/3000, NR_BUCKETS_LOC, REL_DENSITY_HIGH_BUCKET)\n",
    "find_clusters(hi_buckets, CLUSTER_RANGE, MINIMUM_CLUSTER_SIZE, 0, 3000)"
   ]
  },
  {
   "cell_type": "code",
   "execution_count": null,
   "metadata": {},
   "outputs": [],
   "source": []
  },
  {
   "cell_type": "code",
   "execution_count": null,
   "metadata": {},
   "outputs": [],
   "source": []
  },
  {
   "cell_type": "code",
   "execution_count": null,
   "metadata": {},
   "outputs": [],
   "source": []
  },
  {
   "cell_type": "code",
   "execution_count": null,
   "metadata": {},
   "outputs": [],
   "source": []
  }
 ],
 "metadata": {
  "kernelspec": {
   "display_name": "venv",
   "language": "python",
   "name": "venv"
  },
  "language_info": {
   "codemirror_mode": {
    "name": "ipython",
    "version": 3
   },
   "file_extension": ".py",
   "mimetype": "text/x-python",
   "name": "python",
   "nbconvert_exporter": "python",
   "pygments_lexer": "ipython3",
   "version": "3.7.2"
  }
 },
 "nbformat": 4,
 "nbformat_minor": 2
}
