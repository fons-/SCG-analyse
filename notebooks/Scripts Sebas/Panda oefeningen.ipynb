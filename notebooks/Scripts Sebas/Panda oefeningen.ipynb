{
 "cells": [
  {
   "cell_type": "code",
   "execution_count": 1,
   "metadata": {},
   "outputs": [],
   "source": [
    "from pathlib import Path\n",
    "import pandas as pd\n",
    "import numpy as np\n",
    "import matplotlib.pyplot as plt\n",
    "import datetime\n",
    "import math"
   ]
  },
  {
   "cell_type": "code",
   "execution_count": 2,
   "metadata": {},
   "outputs": [
    {
     "name": "stdout",
     "output_type": "stream",
     "text": [
      "       Date/time (UTC)  Location in meters (m)  Charge (picocoulomb)\n",
      "0  2016-08-03 09:00:00                     NaN                   NaN\n",
      "1  2016-08-03 09:01:00                     NaN                   NaN\n",
      "2  2016-08-03 09:02:00                     NaN                   NaN\n",
      "3  2016-08-03 09:04:00                     NaN                   NaN\n",
      "4  2016-08-03 09:05:00                     NaN                   NaN\n"
     ]
    },
    {
     "data": {
      "text/html": [
       "<div>\n",
       "<style scoped>\n",
       "    .dataframe tbody tr th:only-of-type {\n",
       "        vertical-align: middle;\n",
       "    }\n",
       "\n",
       "    .dataframe tbody tr th {\n",
       "        vertical-align: top;\n",
       "    }\n",
       "\n",
       "    .dataframe thead th {\n",
       "        text-align: right;\n",
       "    }\n",
       "</style>\n",
       "<table border=\"1\" class=\"dataframe\">\n",
       "  <thead>\n",
       "    <tr style=\"text-align: right;\">\n",
       "      <th></th>\n",
       "      <th>Date/time (UTC)</th>\n",
       "      <th>Location in meters (m)</th>\n",
       "      <th>Charge (picocoulomb)</th>\n",
       "    </tr>\n",
       "  </thead>\n",
       "  <tbody>\n",
       "    <tr>\n",
       "      <th>249076</th>\n",
       "      <td>2017-01-26 09:35:00</td>\n",
       "      <td>1314.813718</td>\n",
       "      <td>8463.0</td>\n",
       "    </tr>\n",
       "    <tr>\n",
       "      <th>249077</th>\n",
       "      <td>2017-01-26 09:36:00</td>\n",
       "      <td>NaN</td>\n",
       "      <td>NaN</td>\n",
       "    </tr>\n",
       "    <tr>\n",
       "      <th>249078</th>\n",
       "      <td>2017-01-26 09:37:00</td>\n",
       "      <td>1302.964721</td>\n",
       "      <td>12177.5</td>\n",
       "    </tr>\n",
       "    <tr>\n",
       "      <th>249079</th>\n",
       "      <td>2017-01-26 09:38:00</td>\n",
       "      <td>1304.445845</td>\n",
       "      <td>9327.5</td>\n",
       "    </tr>\n",
       "    <tr>\n",
       "      <th>249080</th>\n",
       "      <td>2017-01-26 09:39:00</td>\n",
       "      <td>NaN</td>\n",
       "      <td>NaN</td>\n",
       "    </tr>\n",
       "  </tbody>\n",
       "</table>\n",
       "</div>"
      ],
      "text/plain": [
       "            Date/time (UTC)  Location in meters (m)  Charge (picocoulomb)\n",
       "249076  2017-01-26 09:35:00             1314.813718                8463.0\n",
       "249077  2017-01-26 09:36:00                     NaN                   NaN\n",
       "249078  2017-01-26 09:37:00             1302.964721               12177.5\n",
       "249079  2017-01-26 09:38:00             1304.445845                9327.5\n",
       "249080  2017-01-26 09:39:00                     NaN                   NaN"
      ]
     },
     "execution_count": 2,
     "metadata": {},
     "output_type": "execute_result"
    }
   ],
   "source": [
    "padis = pd.read_csv(\"../../Data/Origineel/1512-pd.csv\", sep=\";\")\n",
    "print(padis.head())\n",
    "padis.tail()"
   ]
  },
  {
   "cell_type": "code",
   "execution_count": 3,
   "metadata": {},
   "outputs": [
    {
     "name": "stdout",
     "output_type": "stream",
     "text": [
      "                  date  location  charge\n",
      "0  2016-08-03 09:00:00       NaN     NaN\n",
      "1  2016-08-03 09:01:00       NaN     NaN\n",
      "2  2016-08-03 09:02:00       NaN     NaN\n",
      "3  2016-08-03 09:04:00       NaN     NaN\n",
      "4  2016-08-03 09:05:00       NaN     NaN\n",
      "Index(['date', 'location', 'charge'], dtype='object')\n"
     ]
    }
   ],
   "source": [
    "date, location, charge = padis.columns\n",
    "padis.columns = \"date\", \"location\", \"charge\"\n",
    "print(padis.head())\n",
    "print(padis.columns)\n"
   ]
  },
  {
   "cell_type": "code",
   "execution_count": 4,
   "metadata": {},
   "outputs": [
    {
     "name": "stdout",
     "output_type": "stream",
     "text": [
      "hoi\n",
      "abc\n",
      "bbaba\n"
     ]
    }
   ],
   "source": [
    "list = [\"hoi\",\"Babaan\",\"Brooeneiaowfj\"]\n",
    "a, b, c = list\n",
    "print(a)\n",
    "list = \"abc\", \"bbaba\"\n",
    "print(list[0])\n",
    "print(list[1])"
   ]
  },
  {
   "cell_type": "code",
   "execution_count": 5,
   "metadata": {},
   "outputs": [
    {
     "data": {
      "text/plain": [
       "RangeIndex(start=0, stop=249081, step=1)"
      ]
     },
     "execution_count": 5,
     "metadata": {},
     "output_type": "execute_result"
    }
   ],
   "source": [
    "padis.index"
   ]
  },
  {
   "cell_type": "code",
   "execution_count": 6,
   "metadata": {},
   "outputs": [
    {
     "data": {
      "text/plain": [
       "Index(['date', 'location', 'charge'], dtype='object')"
      ]
     },
     "execution_count": 6,
     "metadata": {},
     "output_type": "execute_result"
    }
   ],
   "source": [
    "padis.columns"
   ]
  },
  {
   "cell_type": "code",
   "execution_count": 7,
   "metadata": {},
   "outputs": [],
   "source": [
    "date, location, charge = padis.columns"
   ]
  },
  {
   "cell_type": "code",
   "execution_count": 8,
   "metadata": {},
   "outputs": [
    {
     "data": {
      "text/html": [
       "<div>\n",
       "<style scoped>\n",
       "    .dataframe tbody tr th:only-of-type {\n",
       "        vertical-align: middle;\n",
       "    }\n",
       "\n",
       "    .dataframe tbody tr th {\n",
       "        vertical-align: top;\n",
       "    }\n",
       "\n",
       "    .dataframe thead th {\n",
       "        text-align: right;\n",
       "    }\n",
       "</style>\n",
       "<table border=\"1\" class=\"dataframe\">\n",
       "  <thead>\n",
       "    <tr style=\"text-align: right;\">\n",
       "      <th></th>\n",
       "      <th>location</th>\n",
       "      <th>charge</th>\n",
       "    </tr>\n",
       "  </thead>\n",
       "  <tbody>\n",
       "    <tr>\n",
       "      <th>count</th>\n",
       "      <td>22140.000000</td>\n",
       "      <td>22140.000000</td>\n",
       "    </tr>\n",
       "    <tr>\n",
       "      <th>mean</th>\n",
       "      <td>1035.160729</td>\n",
       "      <td>20993.877778</td>\n",
       "    </tr>\n",
       "    <tr>\n",
       "      <th>std</th>\n",
       "      <td>282.545464</td>\n",
       "      <td>23116.202767</td>\n",
       "    </tr>\n",
       "    <tr>\n",
       "      <th>min</th>\n",
       "      <td>0.000000</td>\n",
       "      <td>156.500000</td>\n",
       "    </tr>\n",
       "    <tr>\n",
       "      <th>25%</th>\n",
       "      <td>818.202575</td>\n",
       "      <td>5849.000000</td>\n",
       "    </tr>\n",
       "    <tr>\n",
       "      <th>50%</th>\n",
       "      <td>862.642903</td>\n",
       "      <td>8987.750000</td>\n",
       "    </tr>\n",
       "    <tr>\n",
       "      <th>75%</th>\n",
       "      <td>1308.867572</td>\n",
       "      <td>30669.500000</td>\n",
       "    </tr>\n",
       "    <tr>\n",
       "      <th>max</th>\n",
       "      <td>1382.750000</td>\n",
       "      <td>479117.500000</td>\n",
       "    </tr>\n",
       "  </tbody>\n",
       "</table>\n",
       "</div>"
      ],
      "text/plain": [
       "           location         charge\n",
       "count  22140.000000   22140.000000\n",
       "mean    1035.160729   20993.877778\n",
       "std      282.545464   23116.202767\n",
       "min        0.000000     156.500000\n",
       "25%      818.202575    5849.000000\n",
       "50%      862.642903    8987.750000\n",
       "75%     1308.867572   30669.500000\n",
       "max     1382.750000  479117.500000"
      ]
     },
     "execution_count": 8,
     "metadata": {},
     "output_type": "execute_result"
    }
   ],
   "source": [
    "padis.describe()"
   ]
  },
  {
   "cell_type": "code",
   "execution_count": 9,
   "metadata": {},
   "outputs": [
    {
     "data": {
      "text/html": [
       "<div>\n",
       "<style scoped>\n",
       "    .dataframe tbody tr th:only-of-type {\n",
       "        vertical-align: middle;\n",
       "    }\n",
       "\n",
       "    .dataframe tbody tr th {\n",
       "        vertical-align: top;\n",
       "    }\n",
       "\n",
       "    .dataframe thead th {\n",
       "        text-align: right;\n",
       "    }\n",
       "</style>\n",
       "<table border=\"1\" class=\"dataframe\">\n",
       "  <thead>\n",
       "    <tr style=\"text-align: right;\">\n",
       "      <th></th>\n",
       "      <th>date</th>\n",
       "      <th>location</th>\n",
       "      <th>charge</th>\n",
       "    </tr>\n",
       "  </thead>\n",
       "  <tbody>\n",
       "    <tr>\n",
       "      <th>5</th>\n",
       "      <td>2016-08-03 09:06:00</td>\n",
       "      <td>NaN</td>\n",
       "      <td>NaN</td>\n",
       "    </tr>\n",
       "    <tr>\n",
       "      <th>6</th>\n",
       "      <td>2016-08-03 09:07:00</td>\n",
       "      <td>NaN</td>\n",
       "      <td>NaN</td>\n",
       "    </tr>\n",
       "    <tr>\n",
       "      <th>7</th>\n",
       "      <td>2016-08-03 09:08:00</td>\n",
       "      <td>NaN</td>\n",
       "      <td>NaN</td>\n",
       "    </tr>\n",
       "    <tr>\n",
       "      <th>8</th>\n",
       "      <td>2016-08-03 09:09:00</td>\n",
       "      <td>NaN</td>\n",
       "      <td>NaN</td>\n",
       "    </tr>\n",
       "    <tr>\n",
       "      <th>9</th>\n",
       "      <td>2016-08-03 09:10:00</td>\n",
       "      <td>NaN</td>\n",
       "      <td>NaN</td>\n",
       "    </tr>\n",
       "    <tr>\n",
       "      <th>10</th>\n",
       "      <td>2016-08-03 09:11:00</td>\n",
       "      <td>1308.770571</td>\n",
       "      <td>1891.5</td>\n",
       "    </tr>\n",
       "    <tr>\n",
       "      <th>11</th>\n",
       "      <td>2016-08-03 09:12:00</td>\n",
       "      <td>NaN</td>\n",
       "      <td>NaN</td>\n",
       "    </tr>\n",
       "  </tbody>\n",
       "</table>\n",
       "</div>"
      ],
      "text/plain": [
       "                   date     location  charge\n",
       "5   2016-08-03 09:06:00          NaN     NaN\n",
       "6   2016-08-03 09:07:00          NaN     NaN\n",
       "7   2016-08-03 09:08:00          NaN     NaN\n",
       "8   2016-08-03 09:09:00          NaN     NaN\n",
       "9   2016-08-03 09:10:00          NaN     NaN\n",
       "10  2016-08-03 09:11:00  1308.770571  1891.5\n",
       "11  2016-08-03 09:12:00          NaN     NaN"
      ]
     },
     "execution_count": 9,
     "metadata": {},
     "output_type": "execute_result"
    }
   ],
   "source": [
    "padis[5:12]"
   ]
  },
  {
   "cell_type": "code",
   "execution_count": 10,
   "metadata": {},
   "outputs": [
    {
     "data": {
      "text/html": [
       "<div>\n",
       "<style scoped>\n",
       "    .dataframe tbody tr th:only-of-type {\n",
       "        vertical-align: middle;\n",
       "    }\n",
       "\n",
       "    .dataframe tbody tr th {\n",
       "        vertical-align: top;\n",
       "    }\n",
       "\n",
       "    .dataframe thead th {\n",
       "        text-align: right;\n",
       "    }\n",
       "</style>\n",
       "<table border=\"1\" class=\"dataframe\">\n",
       "  <thead>\n",
       "    <tr style=\"text-align: right;\">\n",
       "      <th></th>\n",
       "      <th>date</th>\n",
       "      <th>location</th>\n",
       "    </tr>\n",
       "  </thead>\n",
       "  <tbody>\n",
       "    <tr>\n",
       "      <th>0</th>\n",
       "      <td>2016-08-03 09:00:00</td>\n",
       "      <td>NaN</td>\n",
       "    </tr>\n",
       "    <tr>\n",
       "      <th>1</th>\n",
       "      <td>2016-08-03 09:01:00</td>\n",
       "      <td>NaN</td>\n",
       "    </tr>\n",
       "    <tr>\n",
       "      <th>2</th>\n",
       "      <td>2016-08-03 09:02:00</td>\n",
       "      <td>NaN</td>\n",
       "    </tr>\n",
       "    <tr>\n",
       "      <th>3</th>\n",
       "      <td>2016-08-03 09:04:00</td>\n",
       "      <td>NaN</td>\n",
       "    </tr>\n",
       "    <tr>\n",
       "      <th>4</th>\n",
       "      <td>2016-08-03 09:05:00</td>\n",
       "      <td>NaN</td>\n",
       "    </tr>\n",
       "  </tbody>\n",
       "</table>\n",
       "</div>"
      ],
      "text/plain": [
       "                  date  location\n",
       "0  2016-08-03 09:00:00       NaN\n",
       "1  2016-08-03 09:01:00       NaN\n",
       "2  2016-08-03 09:02:00       NaN\n",
       "3  2016-08-03 09:04:00       NaN\n",
       "4  2016-08-03 09:05:00       NaN"
      ]
     },
     "execution_count": 10,
     "metadata": {},
     "output_type": "execute_result"
    }
   ],
   "source": [
    "padis.loc[:, [date,location]].head()"
   ]
  },
  {
   "cell_type": "code",
   "execution_count": 11,
   "metadata": {},
   "outputs": [
    {
     "name": "stdout",
     "output_type": "stream",
     "text": [
      "                   date     location  charge\n",
      "0   2016-08-03 09:00:00          NaN     NaN\n",
      "1   2016-08-03 09:01:00          NaN     NaN\n",
      "2   2016-08-03 09:02:00          NaN     NaN\n",
      "3   2016-08-03 09:04:00          NaN     NaN\n",
      "4   2016-08-03 09:05:00          NaN     NaN\n",
      "5   2016-08-03 09:06:00          NaN     NaN\n",
      "6   2016-08-03 09:07:00          NaN     NaN\n",
      "7   2016-08-03 09:08:00          NaN     NaN\n",
      "8   2016-08-03 09:09:00          NaN     NaN\n",
      "9   2016-08-03 09:10:00          NaN     NaN\n",
      "10  2016-08-03 09:11:00  1308.770571  1891.5\n",
      "11  2016-08-03 09:12:00          NaN     NaN\n",
      "12  2016-08-03 09:13:00          NaN     NaN\n",
      "13  2016-08-03 09:14:00          NaN     NaN\n",
      "14  2016-08-03 09:15:00          NaN     NaN\n"
     ]
    },
    {
     "data": {
      "text/html": [
       "<div>\n",
       "<style scoped>\n",
       "    .dataframe tbody tr th:only-of-type {\n",
       "        vertical-align: middle;\n",
       "    }\n",
       "\n",
       "    .dataframe tbody tr th {\n",
       "        vertical-align: top;\n",
       "    }\n",
       "\n",
       "    .dataframe thead th {\n",
       "        text-align: right;\n",
       "    }\n",
       "</style>\n",
       "<table border=\"1\" class=\"dataframe\">\n",
       "  <thead>\n",
       "    <tr style=\"text-align: right;\">\n",
       "      <th></th>\n",
       "      <th>date</th>\n",
       "      <th>charge</th>\n",
       "    </tr>\n",
       "  </thead>\n",
       "  <tbody>\n",
       "    <tr>\n",
       "      <th>0</th>\n",
       "      <td>2016-08-03 09:00:00</td>\n",
       "      <td>NaN</td>\n",
       "    </tr>\n",
       "    <tr>\n",
       "      <th>1</th>\n",
       "      <td>2016-08-03 09:01:00</td>\n",
       "      <td>NaN</td>\n",
       "    </tr>\n",
       "    <tr>\n",
       "      <th>2</th>\n",
       "      <td>2016-08-03 09:02:00</td>\n",
       "      <td>NaN</td>\n",
       "    </tr>\n",
       "    <tr>\n",
       "      <th>3</th>\n",
       "      <td>2016-08-03 09:04:00</td>\n",
       "      <td>NaN</td>\n",
       "    </tr>\n",
       "    <tr>\n",
       "      <th>4</th>\n",
       "      <td>2016-08-03 09:05:00</td>\n",
       "      <td>NaN</td>\n",
       "    </tr>\n",
       "    <tr>\n",
       "      <th>5</th>\n",
       "      <td>2016-08-03 09:06:00</td>\n",
       "      <td>NaN</td>\n",
       "    </tr>\n",
       "    <tr>\n",
       "      <th>6</th>\n",
       "      <td>2016-08-03 09:07:00</td>\n",
       "      <td>NaN</td>\n",
       "    </tr>\n",
       "    <tr>\n",
       "      <th>7</th>\n",
       "      <td>2016-08-03 09:08:00</td>\n",
       "      <td>NaN</td>\n",
       "    </tr>\n",
       "    <tr>\n",
       "      <th>8</th>\n",
       "      <td>2016-08-03 09:09:00</td>\n",
       "      <td>NaN</td>\n",
       "    </tr>\n",
       "    <tr>\n",
       "      <th>9</th>\n",
       "      <td>2016-08-03 09:10:00</td>\n",
       "      <td>NaN</td>\n",
       "    </tr>\n",
       "    <tr>\n",
       "      <th>10</th>\n",
       "      <td>2016-08-03 09:11:00</td>\n",
       "      <td>1891.5</td>\n",
       "    </tr>\n",
       "    <tr>\n",
       "      <th>11</th>\n",
       "      <td>2016-08-03 09:12:00</td>\n",
       "      <td>NaN</td>\n",
       "    </tr>\n",
       "    <tr>\n",
       "      <th>12</th>\n",
       "      <td>2016-08-03 09:13:00</td>\n",
       "      <td>NaN</td>\n",
       "    </tr>\n",
       "    <tr>\n",
       "      <th>13</th>\n",
       "      <td>2016-08-03 09:14:00</td>\n",
       "      <td>NaN</td>\n",
       "    </tr>\n",
       "    <tr>\n",
       "      <th>14</th>\n",
       "      <td>2016-08-03 09:15:00</td>\n",
       "      <td>NaN</td>\n",
       "    </tr>\n",
       "    <tr>\n",
       "      <th>15</th>\n",
       "      <td>2016-08-03 09:17:00</td>\n",
       "      <td>NaN</td>\n",
       "    </tr>\n",
       "  </tbody>\n",
       "</table>\n",
       "</div>"
      ],
      "text/plain": [
       "                   date  charge\n",
       "0   2016-08-03 09:00:00     NaN\n",
       "1   2016-08-03 09:01:00     NaN\n",
       "2   2016-08-03 09:02:00     NaN\n",
       "3   2016-08-03 09:04:00     NaN\n",
       "4   2016-08-03 09:05:00     NaN\n",
       "5   2016-08-03 09:06:00     NaN\n",
       "6   2016-08-03 09:07:00     NaN\n",
       "7   2016-08-03 09:08:00     NaN\n",
       "8   2016-08-03 09:09:00     NaN\n",
       "9   2016-08-03 09:10:00     NaN\n",
       "10  2016-08-03 09:11:00  1891.5\n",
       "11  2016-08-03 09:12:00     NaN\n",
       "12  2016-08-03 09:13:00     NaN\n",
       "13  2016-08-03 09:14:00     NaN\n",
       "14  2016-08-03 09:15:00     NaN\n",
       "15  2016-08-03 09:17:00     NaN"
      ]
     },
     "execution_count": 11,
     "metadata": {},
     "output_type": "execute_result"
    }
   ],
   "source": [
    "print(padis[0:15])\n",
    "padis.loc[0:15,[date,charge]]"
   ]
  },
  {
   "cell_type": "code",
   "execution_count": 12,
   "metadata": {},
   "outputs": [
    {
     "name": "stdout",
     "output_type": "stream",
     "text": [
      "2016-08-03 09:00:00\n",
      "hallo jumbo\n",
      "date        2016-08-03 09:06:00\n",
      "location                    NaN\n",
      "charge                      NaN\n",
      "Name: 5, dtype: object\n",
      "Series([], Name: date, dtype: object)\n",
      "249080\n",
      "2017-01-26 09:39:00\n"
     ]
    }
   ],
   "source": [
    "print(padis.loc[0,date])\n",
    "print(\"hallo jumbo\")\n",
    "print(padis.loc[5])\n",
    "print(padis.loc[-2:-1,date])\n",
    "\n",
    "print(padis.index[-1])\n",
    "\n",
    "print(padis.loc[padis.index[-1],date])"
   ]
  },
  {
   "cell_type": "code",
   "execution_count": 13,
   "metadata": {},
   "outputs": [
    {
     "data": {
      "text/html": [
       "<div>\n",
       "<style scoped>\n",
       "    .dataframe tbody tr th:only-of-type {\n",
       "        vertical-align: middle;\n",
       "    }\n",
       "\n",
       "    .dataframe tbody tr th {\n",
       "        vertical-align: top;\n",
       "    }\n",
       "\n",
       "    .dataframe thead th {\n",
       "        text-align: right;\n",
       "    }\n",
       "</style>\n",
       "<table border=\"1\" class=\"dataframe\">\n",
       "  <thead>\n",
       "    <tr style=\"text-align: right;\">\n",
       "      <th></th>\n",
       "      <th>0</th>\n",
       "      <th>1</th>\n",
       "      <th>2</th>\n",
       "      <th>3</th>\n",
       "    </tr>\n",
       "  </thead>\n",
       "  <tbody>\n",
       "    <tr>\n",
       "      <th>0</th>\n",
       "      <td>-0.429000</td>\n",
       "      <td>0.259254</td>\n",
       "      <td>0.678075</td>\n",
       "      <td>-0.025272</td>\n",
       "    </tr>\n",
       "    <tr>\n",
       "      <th>1</th>\n",
       "      <td>-2.278943</td>\n",
       "      <td>1.285225</td>\n",
       "      <td>0.761406</td>\n",
       "      <td>-0.786814</td>\n",
       "    </tr>\n",
       "    <tr>\n",
       "      <th>2</th>\n",
       "      <td>-0.305612</td>\n",
       "      <td>-1.036723</td>\n",
       "      <td>-0.514278</td>\n",
       "      <td>-1.128647</td>\n",
       "    </tr>\n",
       "    <tr>\n",
       "      <th>3</th>\n",
       "      <td>1.025593</td>\n",
       "      <td>-1.362733</td>\n",
       "      <td>0.366868</td>\n",
       "      <td>-0.480794</td>\n",
       "    </tr>\n",
       "    <tr>\n",
       "      <th>4</th>\n",
       "      <td>0.123119</td>\n",
       "      <td>-0.711286</td>\n",
       "      <td>1.959752</td>\n",
       "      <td>0.277684</td>\n",
       "    </tr>\n",
       "    <tr>\n",
       "      <th>5</th>\n",
       "      <td>-0.971556</td>\n",
       "      <td>-1.319791</td>\n",
       "      <td>-0.743432</td>\n",
       "      <td>0.773016</td>\n",
       "    </tr>\n",
       "  </tbody>\n",
       "</table>\n",
       "</div>"
      ],
      "text/plain": [
       "          0         1         2         3\n",
       "0 -0.429000  0.259254  0.678075 -0.025272\n",
       "1 -2.278943  1.285225  0.761406 -0.786814\n",
       "2 -0.305612 -1.036723 -0.514278 -1.128647\n",
       "3  1.025593 -1.362733  0.366868 -0.480794\n",
       "4  0.123119 -0.711286  1.959752  0.277684\n",
       "5 -0.971556 -1.319791 -0.743432  0.773016"
      ]
     },
     "execution_count": 13,
     "metadata": {},
     "output_type": "execute_result"
    }
   ],
   "source": [
    "df0 = pd.DataFrame(np.random.randn(6,4))\n",
    "df0"
   ]
  },
  {
   "cell_type": "code",
   "execution_count": 14,
   "metadata": {},
   "outputs": [
    {
     "name": "stdout",
     "output_type": "stream",
     "text": [
      "          Z         X         C         V         B         N         M\n",
      "2 -0.433673  0.433200 -0.137088  1.025060 -0.161480 -2.430209 -0.037756\n",
      "4 -0.773941  1.061425  0.325176 -0.100679 -0.880127  0.499276 -1.183845\n",
      "7 -0.119189  0.221318 -0.958317 -0.175551 -0.211597  0.170989  0.428906\n",
      "8  0.258156  0.050511  0.600227  1.044214 -0.435200 -1.500924 -0.100962\n",
      "9  1.249579 -0.977002 -1.507665 -0.636998 -1.001980  0.188108 -0.682725\n"
     ]
    }
   ],
   "source": [
    "dates = pd.date_range('20130101', periods=5)\n",
    "df = pd.DataFrame( np.random.randn(5, 7), index=['2','4','7','8','9'], columns = ['Z','X','C','V','B','N','M',])\n",
    "#df = pd.DataFrame( np.random.randn(5, 7), index=['2','4','7','8','9'], columns=list('HABTEUV'))\n",
    "print(df)\n",
    "#columns = list('HABTEUV')\n"
   ]
  },
  {
   "cell_type": "code",
   "execution_count": 15,
   "metadata": {},
   "outputs": [
    {
     "name": "stdout",
     "output_type": "stream",
     "text": [
      "-0.7739412080986334\n",
      "          Z         X         C\n",
      "2 -0.433673  0.433200 -0.137088\n",
      "4 -0.773941  1.061425  0.325176\n",
      "7 -0.119189  0.221318 -0.958317\n",
      "          Z         C\n",
      "2 -0.433673 -0.137088\n",
      "4 -0.773941  0.325176\n",
      "7 -0.119189 -0.958317\n",
      "          Z         C\n",
      "2 -0.433673 -0.137088\n",
      "7 -0.119189 -0.958317\n",
      "Z   -0.773941\n",
      "X    1.061425\n",
      "C    0.325176\n",
      "V   -0.100679\n",
      "B   -0.880127\n",
      "N    0.499276\n",
      "M   -1.183845\n",
      "Name: 4, dtype: float64\n",
      "2   -0.433673\n",
      "4   -0.773941\n",
      "7   -0.119189\n",
      "8    0.258156\n",
      "9    1.249579\n",
      "Name: Z, dtype: float64\n",
      "          M         Z         C\n",
      "2 -0.037756 -0.433673 -0.137088\n",
      "7  0.428906 -0.119189 -0.958317\n"
     ]
    }
   ],
   "source": [
    "print(df.loc['4','Z'])\n",
    "print(df.loc['2':'7','Z':'C'])\n",
    "print(df.loc['2':'7',['Z','C']])\n",
    "print(df.loc[['2','7'],['Z','C']])\n",
    "\n",
    "print(df.loc[\"4\"])\n",
    "print(df['Z'])\n",
    "\n",
    "print(df.loc[['2','7'],['M','Z','C']])"
   ]
  },
  {
   "cell_type": "code",
   "execution_count": 16,
   "metadata": {},
   "outputs": [
    {
     "name": "stdout",
     "output_type": "stream",
     "text": [
      "Z    1.249579\n",
      "X   -0.977002\n",
      "C   -1.507665\n",
      "V   -0.636998\n",
      "B   -1.001980\n",
      "N    0.188108\n",
      "M   -0.682725\n",
      "Name: 9, dtype: float64\n",
      "V   -0.636998\n",
      "N    0.188108\n",
      "X   -0.977002\n",
      "Name: 9, dtype: float64\n"
     ]
    }
   ],
   "source": [
    "print(df.iloc[4])\n",
    "print(df.iloc[4,[3,5,1]])"
   ]
  },
  {
   "cell_type": "code",
   "execution_count": 17,
   "metadata": {},
   "outputs": [
    {
     "name": "stdout",
     "output_type": "stream",
     "text": [
      "10        1308.770571\n",
      "236       1316.173112\n",
      "357       1301.368029\n",
      "567       1314.692604\n",
      "600        816.713966\n",
      "601        819.674982\n",
      "602        815.233458\n",
      "603        818.194474\n",
      "604        815.233458\n",
      "605        815.233458\n",
      "606        813.030000\n",
      "607        816.713966\n",
      "608        816.713966\n",
      "609        813.030000\n",
      "610        819.674982\n",
      "611        802.695122\n",
      "612        818.194474\n",
      "613        821.155491\n",
      "614        813.030000\n",
      "615        813.030000\n",
      "616        827.077524\n",
      "617        630.650542\n",
      "618        824.116507\n",
      "619        864.090231\n",
      "627       1313.212095\n",
      "745        841.882607\n",
      "1065      1310.251079\n",
      "1105       584.754785\n",
      "1106       816.713966\n",
      "1107       821.155491\n",
      "             ...     \n",
      "249015    1300.002471\n",
      "249018    1295.559097\n",
      "249019    1302.964721\n",
      "249027    1304.445845\n",
      "249028    1300.002471\n",
      "249029    1298.521347\n",
      "249034    1302.964721\n",
      "249039    1314.813718\n",
      "249041    1311.851468\n",
      "249045    1310.370344\n",
      "249048    1308.889219\n",
      "249049    1307.408094\n",
      "249050    1311.851468\n",
      "249051    1305.926970\n",
      "249052    1304.445845\n",
      "249053    1307.408094\n",
      "249054    1300.002471\n",
      "249056    1302.964721\n",
      "249057    1307.408094\n",
      "249058    1304.445845\n",
      "249064    1300.002471\n",
      "249065    1305.926970\n",
      "249066    1311.851468\n",
      "249069    1310.370344\n",
      "249070    1313.332593\n",
      "249072    1311.851468\n",
      "249073    1304.445845\n",
      "249076    1314.813718\n",
      "249078    1302.964721\n",
      "249079    1304.445845\n",
      "Name: location, Length: 22140, dtype: float64\n",
      "10         1891.5\n",
      "236        5511.0\n",
      "357        2477.5\n",
      "567        4941.0\n",
      "600       34371.5\n",
      "601       68391.0\n",
      "602       10971.5\n",
      "603       18801.5\n",
      "604       25763.5\n",
      "605       39124.5\n",
      "606        5126.0\n",
      "607       23625.5\n",
      "608       29430.5\n",
      "609       36346.5\n",
      "610       35444.0\n",
      "611       25169.5\n",
      "612       25253.0\n",
      "613       56022.5\n",
      "614       26938.5\n",
      "615       30574.5\n",
      "616       20490.5\n",
      "617        2803.5\n",
      "618        7331.5\n",
      "619        2606.5\n",
      "627        3013.5\n",
      "745       10481.0\n",
      "1065       2372.0\n",
      "1105      96845.0\n",
      "1106      49558.5\n",
      "1107      10934.5\n",
      "           ...   \n",
      "249015     4531.0\n",
      "249018    18949.0\n",
      "249019     7392.5\n",
      "249027    11573.5\n",
      "249028    13978.5\n",
      "249029    10851.0\n",
      "249034     7076.0\n",
      "249039     7331.0\n",
      "249041     7198.5\n",
      "249045     8269.5\n",
      "249048     6254.0\n",
      "249049     6344.5\n",
      "249050     8116.0\n",
      "249051     8948.5\n",
      "249052     9250.0\n",
      "249053    10965.5\n",
      "249054    15710.5\n",
      "249056     8052.0\n",
      "249057     7578.0\n",
      "249058     8486.0\n",
      "249064    10537.5\n",
      "249065     7733.0\n",
      "249066     4202.0\n",
      "249069     6070.5\n",
      "249070     4924.0\n",
      "249072     5041.0\n",
      "249073    10832.0\n",
      "249076     8463.0\n",
      "249078    12177.5\n",
      "249079     9327.5\n",
      "Name: charge, Length: 22140, dtype: float64\n"
     ]
    },
    {
     "data": {
      "text/plain": [
       "20993.87777777778"
      ]
     },
     "execution_count": 17,
     "metadata": {},
     "output_type": "execute_result"
    }
   ],
   "source": [
    "pdsocc = padis.dropna(subset=[charge])\n",
    "print(pdsocc[location])\n",
    "charges = pdsocc[charge]\n",
    "print(charges)\n",
    "charges.mean()"
   ]
  },
  {
   "cell_type": "code",
   "execution_count": 18,
   "metadata": {},
   "outputs": [
    {
     "data": {
      "text/plain": [
       "20993.87777777778"
      ]
     },
     "execution_count": 18,
     "metadata": {},
     "output_type": "execute_result"
    }
   ],
   "source": [
    "padis[charge].mean()"
   ]
  },
  {
   "cell_type": "code",
   "execution_count": 19,
   "metadata": {},
   "outputs": [
    {
     "data": {
      "text/plain": [
       "24287.164593430265"
      ]
     },
     "execution_count": 19,
     "metadata": {},
     "output_type": "execute_result"
    }
   ],
   "source": [
    "padis[padis.charge>5000][charge].mean()"
   ]
  },
  {
   "cell_type": "code",
   "execution_count": 20,
   "metadata": {},
   "outputs": [
    {
     "data": {
      "text/html": [
       "<div>\n",
       "<style scoped>\n",
       "    .dataframe tbody tr th:only-of-type {\n",
       "        vertical-align: middle;\n",
       "    }\n",
       "\n",
       "    .dataframe tbody tr th {\n",
       "        vertical-align: top;\n",
       "    }\n",
       "\n",
       "    .dataframe thead th {\n",
       "        text-align: right;\n",
       "    }\n",
       "</style>\n",
       "<table border=\"1\" class=\"dataframe\">\n",
       "  <thead>\n",
       "    <tr style=\"text-align: right;\">\n",
       "      <th></th>\n",
       "      <th>date</th>\n",
       "      <th>location</th>\n",
       "      <th>charge</th>\n",
       "    </tr>\n",
       "  </thead>\n",
       "  <tbody>\n",
       "    <tr>\n",
       "      <th>169914</th>\n",
       "      <td>2016-12-02 18:18:00</td>\n",
       "      <td>NaN</td>\n",
       "      <td>NaN</td>\n",
       "    </tr>\n",
       "    <tr>\n",
       "      <th>201892</th>\n",
       "      <td>2016-12-24 22:52:00</td>\n",
       "      <td>NaN</td>\n",
       "      <td>NaN</td>\n",
       "    </tr>\n",
       "    <tr>\n",
       "      <th>228174</th>\n",
       "      <td>2017-01-12 08:35:00</td>\n",
       "      <td>1305.926970</td>\n",
       "      <td>7637.5</td>\n",
       "    </tr>\n",
       "    <tr>\n",
       "      <th>115008</th>\n",
       "      <td>2016-10-24 06:25:00</td>\n",
       "      <td>818.219183</td>\n",
       "      <td>36575.0</td>\n",
       "    </tr>\n",
       "    <tr>\n",
       "      <th>88547</th>\n",
       "      <td>2016-10-05 02:46:00</td>\n",
       "      <td>NaN</td>\n",
       "      <td>NaN</td>\n",
       "    </tr>\n",
       "    <tr>\n",
       "      <th>194982</th>\n",
       "      <td>2016-12-20 01:33:00</td>\n",
       "      <td>NaN</td>\n",
       "      <td>NaN</td>\n",
       "    </tr>\n",
       "    <tr>\n",
       "      <th>199058</th>\n",
       "      <td>2016-12-22 19:50:00</td>\n",
       "      <td>NaN</td>\n",
       "      <td>NaN</td>\n",
       "    </tr>\n",
       "    <tr>\n",
       "      <th>230861</th>\n",
       "      <td>2017-01-14 03:40:00</td>\n",
       "      <td>NaN</td>\n",
       "      <td>NaN</td>\n",
       "    </tr>\n",
       "    <tr>\n",
       "      <th>65512</th>\n",
       "      <td>2016-09-18 12:31:00</td>\n",
       "      <td>NaN</td>\n",
       "      <td>NaN</td>\n",
       "    </tr>\n",
       "    <tr>\n",
       "      <th>113703</th>\n",
       "      <td>2016-10-23 08:19:00</td>\n",
       "      <td>NaN</td>\n",
       "      <td>NaN</td>\n",
       "    </tr>\n",
       "  </tbody>\n",
       "</table>\n",
       "</div>"
      ],
      "text/plain": [
       "                       date     location   charge\n",
       "169914  2016-12-02 18:18:00          NaN      NaN\n",
       "201892  2016-12-24 22:52:00          NaN      NaN\n",
       "228174  2017-01-12 08:35:00  1305.926970   7637.5\n",
       "115008  2016-10-24 06:25:00   818.219183  36575.0\n",
       "88547   2016-10-05 02:46:00          NaN      NaN\n",
       "194982  2016-12-20 01:33:00          NaN      NaN\n",
       "199058  2016-12-22 19:50:00          NaN      NaN\n",
       "230861  2017-01-14 03:40:00          NaN      NaN\n",
       "65512   2016-09-18 12:31:00          NaN      NaN\n",
       "113703  2016-10-23 08:19:00          NaN      NaN"
      ]
     },
     "execution_count": 20,
     "metadata": {},
     "output_type": "execute_result"
    }
   ],
   "source": [
    "padis.iloc[np.random.randint(padis.index[-1], size=10)]"
   ]
  },
  {
   "cell_type": "markdown",
   "metadata": {},
   "source": [
    "Totale lading van alle PDs in september tussen 100m en 200m"
   ]
  },
  {
   "cell_type": "code",
   "execution_count": 21,
   "metadata": {},
   "outputs": [
    {
     "data": {
      "text/plain": [
       "17072.0"
      ]
     },
     "execution_count": 21,
     "metadata": {},
     "output_type": "execute_result"
    }
   ],
   "source": [
    "sum(padis[(padis.location>100) & (padis.location<200) & padis.date.str.contains(\"-09-\")][charge])"
   ]
  },
  {
   "cell_type": "code",
   "execution_count": 47,
   "metadata": {},
   "outputs": [
    {
     "data": {
      "text/plain": [
       "0.06245765391390758"
      ]
     },
     "execution_count": 47,
     "metadata": {},
     "output_type": "execute_result"
    }
   ],
   "source": [
    "pdsocclocs = pdsocc[location]\n",
    "pdsocclocs.sort_values()\n",
    "np.diff(pdsocclocs.sort_values()).mean()"
   ]
  },
  {
   "cell_type": "code",
   "execution_count": 60,
   "metadata": {},
   "outputs": [
    {
     "ename": "AttributeError",
     "evalue": "'str' object has no attribute 'apply'",
     "output_type": "error",
     "traceback": [
      "\u001b[1;31m---------------------------------------------------------------------------\u001b[0m",
      "\u001b[1;31mAttributeError\u001b[0m                            Traceback (most recent call last)",
      "\u001b[1;32m<ipython-input-60-5fae6213ff07>\u001b[0m in \u001b[0;36m<module>\u001b[1;34m\u001b[0m\n\u001b[1;32m----> 1\u001b[1;33m \u001b[0mpdsocc\u001b[0m\u001b[1;33m[\u001b[0m\u001b[0mdate\u001b[0m\u001b[1;33m]\u001b[0m\u001b[1;33m.\u001b[0m\u001b[0miloc\u001b[0m\u001b[1;33m[\u001b[0m\u001b[1;36m0\u001b[0m\u001b[1;33m]\u001b[0m\u001b[1;33m.\u001b[0m\u001b[0mapply\u001b[0m\u001b[1;33m(\u001b[0m\u001b[0mdatetime\u001b[0m\u001b[1;33m.\u001b[0m\u001b[0mdatetime\u001b[0m\u001b[1;33m.\u001b[0m\u001b[0mfromisoformat\u001b[0m\u001b[1;33m)\u001b[0m\u001b[1;33m\u001b[0m\u001b[1;33m\u001b[0m\u001b[0m\n\u001b[0m",
      "\u001b[1;31mAttributeError\u001b[0m: 'str' object has no attribute 'apply'"
     ]
    }
   ],
   "source": [
    "pdsocc[date].iloc[0].apply(datetime.datetime.fromisoformat)"
   ]
  }
 ],
 "metadata": {
  "kernelspec": {
   "display_name": "venv",
   "language": "python",
   "name": "venv"
  },
  "language_info": {
   "codemirror_mode": {
    "name": "ipython",
    "version": 3
   },
   "file_extension": ".py",
   "mimetype": "text/x-python",
   "name": "python",
   "nbconvert_exporter": "python",
   "pygments_lexer": "ipython3",
   "version": "3.7.2"
  }
 },
 "nbformat": 4,
 "nbformat_minor": 2
}
