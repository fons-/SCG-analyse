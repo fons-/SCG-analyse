{
 "cells": [
  {
   "cell_type": "markdown",
   "metadata": {},
   "source": [
    "Het eerste deel is een kopie van Fons zijn Input"
   ]
  },
  {
   "cell_type": "code",
   "execution_count": 1,
   "metadata": {},
   "outputs": [],
   "source": [
    "from pathlib import Path\n",
    "import pandas as pd\n",
    "import numpy as np\n",
    "import matplotlib.pyplot as plt\n",
    "import scipy.stats\n",
    "import datetime\n",
    "from pandas.plotting import register_matplotlib_converters\n",
    "register_matplotlib_converters()\n",
    "import ipywidgets\n",
    "from IPython.display import display, clear_output, Javascript, Markdown\n",
    "\n",
    "%config InlineBackend.figure_format = 'retina'\n",
    "plt.rcParams['figure.figsize'] = [8, 4]"
   ]
  },
  {
   "cell_type": "code",
   "execution_count": 2,
   "metadata": {},
   "outputs": [
    {
     "name": "stdout",
     "output_type": "stream",
     "text": [
      "Git root path found at: C:\\Users\\sebas\\Documents\\GitHub\\SCG-analyse\n",
      "Using data path:        C:\\Users\\sebas\\Documents\\GitHub\\SCG-analyse\\data\\origineel\n"
     ]
    }
   ],
   "source": [
    "def subdirectories_of(path):\n",
    "    return [item.resolve() for item in path.iterdir() if item.is_dir()]\n",
    "\n",
    "\n",
    "current_path = Path().resolve()\n",
    "git_path = current_path\n",
    "\n",
    "# While we are not at the root of the git directory:\n",
    "while not '.git' in map(lambda p: p.name, subdirectories_of(git_path)):\n",
    "    # Move one directory up, and check again\n",
    "    git_path = git_path.parent.resolve()\n",
    "    if len(git_path.parts) <= 1:\n",
    "        raise Warning(\"This script is not running in the git repository. Configure data path manually.\")\n",
    "\n",
    "\n",
    "data_path = git_path / \"data\" / \"origineel\"\n",
    "print(\"Git root path found at: \"+str(git_path))\n",
    "print(\"Using data path:        \" + str(data_path))\n",
    "\n",
    "if not Path(data_path).is_dir():\n",
    "    raise Warning(\"Data path does not exist\")"
   ]
  },
  {
   "cell_type": "code",
   "execution_count": 3,
   "metadata": {},
   "outputs": [
    {
     "ename": "ParserError",
     "evalue": "Error tokenizing data. C error: out of memory",
     "output_type": "error",
     "traceback": [
      "\u001b[1;31m---------------------------------------------------------------------------\u001b[0m",
      "\u001b[1;31mParserError\u001b[0m                               Traceback (most recent call last)",
      "\u001b[1;32m<ipython-input-3-5738b15b0078>\u001b[0m in \u001b[0;36m<module>\u001b[1;34m\u001b[0m\n\u001b[0;32m     11\u001b[0m \u001b[1;31m# Drie dictionaries, met als keys de circuitnummers (int), als value de Pandas DataFrame van de .csv.\u001b[0m\u001b[1;33m\u001b[0m\u001b[1;33m\u001b[0m\u001b[1;33m\u001b[0m\u001b[0m\n\u001b[0;32m     12\u001b[0m \u001b[0mcable_config\u001b[0m       \u001b[1;33m=\u001b[0m \u001b[1;33m{\u001b[0m\u001b[0mcircuitnum_from_file_path\u001b[0m\u001b[1;33m(\u001b[0m\u001b[0mfp\u001b[0m\u001b[1;33m)\u001b[0m\u001b[1;33m:\u001b[0m \u001b[0mpd\u001b[0m\u001b[1;33m.\u001b[0m\u001b[0mread_csv\u001b[0m\u001b[1;33m(\u001b[0m\u001b[0mfp\u001b[0m\u001b[1;33m,\u001b[0m \u001b[0msep\u001b[0m\u001b[1;33m=\u001b[0m\u001b[1;34m\";\"\u001b[0m\u001b[1;33m)\u001b[0m \u001b[1;32mfor\u001b[0m \u001b[0mfp\u001b[0m \u001b[1;32min\u001b[0m \u001b[0mdata_file_paths\u001b[0m \u001b[1;32mif\u001b[0m \u001b[1;34m'cableconfig'\u001b[0m \u001b[1;32min\u001b[0m \u001b[0mfp\u001b[0m\u001b[1;33m.\u001b[0m\u001b[0mname\u001b[0m\u001b[1;33m}\u001b[0m\u001b[1;33m\u001b[0m\u001b[1;33m\u001b[0m\u001b[0m\n\u001b[1;32m---> 13\u001b[1;33m \u001b[0mpartial_discharges\u001b[0m \u001b[1;33m=\u001b[0m \u001b[1;33m{\u001b[0m\u001b[0mcircuitnum_from_file_path\u001b[0m\u001b[1;33m(\u001b[0m\u001b[0mfp\u001b[0m\u001b[1;33m)\u001b[0m\u001b[1;33m:\u001b[0m \u001b[0mpd\u001b[0m\u001b[1;33m.\u001b[0m\u001b[0mread_csv\u001b[0m\u001b[1;33m(\u001b[0m\u001b[0mfp\u001b[0m\u001b[1;33m,\u001b[0m \u001b[0msep\u001b[0m\u001b[1;33m=\u001b[0m\u001b[1;34m\";\"\u001b[0m\u001b[1;33m)\u001b[0m \u001b[1;32mfor\u001b[0m \u001b[0mfp\u001b[0m \u001b[1;32min\u001b[0m \u001b[0mdata_file_paths\u001b[0m \u001b[1;32mif\u001b[0m \u001b[1;34m'pd'\u001b[0m \u001b[1;32min\u001b[0m \u001b[0mfp\u001b[0m\u001b[1;33m.\u001b[0m\u001b[0mname\u001b[0m\u001b[1;33m}\u001b[0m\u001b[1;33m\u001b[0m\u001b[1;33m\u001b[0m\u001b[0m\n\u001b[0m\u001b[0;32m     14\u001b[0m \u001b[0mwarning\u001b[0m            \u001b[1;33m=\u001b[0m \u001b[1;33m{\u001b[0m\u001b[0mcircuitnum_from_file_path\u001b[0m\u001b[1;33m(\u001b[0m\u001b[0mfp\u001b[0m\u001b[1;33m)\u001b[0m\u001b[1;33m:\u001b[0m \u001b[0mpd\u001b[0m\u001b[1;33m.\u001b[0m\u001b[0mread_csv\u001b[0m\u001b[1;33m(\u001b[0m\u001b[0mfp\u001b[0m\u001b[1;33m,\u001b[0m \u001b[0msep\u001b[0m\u001b[1;33m=\u001b[0m\u001b[1;34m\";\"\u001b[0m\u001b[1;33m)\u001b[0m \u001b[1;32mfor\u001b[0m \u001b[0mfp\u001b[0m \u001b[1;32min\u001b[0m \u001b[0mdata_file_paths\u001b[0m \u001b[1;32mif\u001b[0m \u001b[1;34m'warning'\u001b[0m \u001b[1;32min\u001b[0m \u001b[0mfp\u001b[0m\u001b[1;33m.\u001b[0m\u001b[0mname\u001b[0m\u001b[1;33m}\u001b[0m\u001b[1;33m\u001b[0m\u001b[1;33m\u001b[0m\u001b[0m\n\u001b[0;32m     15\u001b[0m \u001b[1;33m\u001b[0m\u001b[0m\n",
      "\u001b[1;32m<ipython-input-3-5738b15b0078>\u001b[0m in \u001b[0;36m<dictcomp>\u001b[1;34m(.0)\u001b[0m\n\u001b[0;32m     11\u001b[0m \u001b[1;31m# Drie dictionaries, met als keys de circuitnummers (int), als value de Pandas DataFrame van de .csv.\u001b[0m\u001b[1;33m\u001b[0m\u001b[1;33m\u001b[0m\u001b[1;33m\u001b[0m\u001b[0m\n\u001b[0;32m     12\u001b[0m \u001b[0mcable_config\u001b[0m       \u001b[1;33m=\u001b[0m \u001b[1;33m{\u001b[0m\u001b[0mcircuitnum_from_file_path\u001b[0m\u001b[1;33m(\u001b[0m\u001b[0mfp\u001b[0m\u001b[1;33m)\u001b[0m\u001b[1;33m:\u001b[0m \u001b[0mpd\u001b[0m\u001b[1;33m.\u001b[0m\u001b[0mread_csv\u001b[0m\u001b[1;33m(\u001b[0m\u001b[0mfp\u001b[0m\u001b[1;33m,\u001b[0m \u001b[0msep\u001b[0m\u001b[1;33m=\u001b[0m\u001b[1;34m\";\"\u001b[0m\u001b[1;33m)\u001b[0m \u001b[1;32mfor\u001b[0m \u001b[0mfp\u001b[0m \u001b[1;32min\u001b[0m \u001b[0mdata_file_paths\u001b[0m \u001b[1;32mif\u001b[0m \u001b[1;34m'cableconfig'\u001b[0m \u001b[1;32min\u001b[0m \u001b[0mfp\u001b[0m\u001b[1;33m.\u001b[0m\u001b[0mname\u001b[0m\u001b[1;33m}\u001b[0m\u001b[1;33m\u001b[0m\u001b[1;33m\u001b[0m\u001b[0m\n\u001b[1;32m---> 13\u001b[1;33m \u001b[0mpartial_discharges\u001b[0m \u001b[1;33m=\u001b[0m \u001b[1;33m{\u001b[0m\u001b[0mcircuitnum_from_file_path\u001b[0m\u001b[1;33m(\u001b[0m\u001b[0mfp\u001b[0m\u001b[1;33m)\u001b[0m\u001b[1;33m:\u001b[0m \u001b[0mpd\u001b[0m\u001b[1;33m.\u001b[0m\u001b[0mread_csv\u001b[0m\u001b[1;33m(\u001b[0m\u001b[0mfp\u001b[0m\u001b[1;33m,\u001b[0m \u001b[0msep\u001b[0m\u001b[1;33m=\u001b[0m\u001b[1;34m\";\"\u001b[0m\u001b[1;33m)\u001b[0m \u001b[1;32mfor\u001b[0m \u001b[0mfp\u001b[0m \u001b[1;32min\u001b[0m \u001b[0mdata_file_paths\u001b[0m \u001b[1;32mif\u001b[0m \u001b[1;34m'pd'\u001b[0m \u001b[1;32min\u001b[0m \u001b[0mfp\u001b[0m\u001b[1;33m.\u001b[0m\u001b[0mname\u001b[0m\u001b[1;33m}\u001b[0m\u001b[1;33m\u001b[0m\u001b[1;33m\u001b[0m\u001b[0m\n\u001b[0m\u001b[0;32m     14\u001b[0m \u001b[0mwarning\u001b[0m            \u001b[1;33m=\u001b[0m \u001b[1;33m{\u001b[0m\u001b[0mcircuitnum_from_file_path\u001b[0m\u001b[1;33m(\u001b[0m\u001b[0mfp\u001b[0m\u001b[1;33m)\u001b[0m\u001b[1;33m:\u001b[0m \u001b[0mpd\u001b[0m\u001b[1;33m.\u001b[0m\u001b[0mread_csv\u001b[0m\u001b[1;33m(\u001b[0m\u001b[0mfp\u001b[0m\u001b[1;33m,\u001b[0m \u001b[0msep\u001b[0m\u001b[1;33m=\u001b[0m\u001b[1;34m\";\"\u001b[0m\u001b[1;33m)\u001b[0m \u001b[1;32mfor\u001b[0m \u001b[0mfp\u001b[0m \u001b[1;32min\u001b[0m \u001b[0mdata_file_paths\u001b[0m \u001b[1;32mif\u001b[0m \u001b[1;34m'warning'\u001b[0m \u001b[1;32min\u001b[0m \u001b[0mfp\u001b[0m\u001b[1;33m.\u001b[0m\u001b[0mname\u001b[0m\u001b[1;33m}\u001b[0m\u001b[1;33m\u001b[0m\u001b[1;33m\u001b[0m\u001b[0m\n\u001b[0;32m     15\u001b[0m \u001b[1;33m\u001b[0m\u001b[0m\n",
      "\u001b[1;32mc:\\users\\sebas\\documents\\github\\scg-analyse\\venv\\lib\\site-packages\\pandas\\io\\parsers.py\u001b[0m in \u001b[0;36mparser_f\u001b[1;34m(filepath_or_buffer, sep, delimiter, header, names, index_col, usecols, squeeze, prefix, mangle_dupe_cols, dtype, engine, converters, true_values, false_values, skipinitialspace, skiprows, skipfooter, nrows, na_values, keep_default_na, na_filter, verbose, skip_blank_lines, parse_dates, infer_datetime_format, keep_date_col, date_parser, dayfirst, iterator, chunksize, compression, thousands, decimal, lineterminator, quotechar, quoting, doublequote, escapechar, comment, encoding, dialect, tupleize_cols, error_bad_lines, warn_bad_lines, delim_whitespace, low_memory, memory_map, float_precision)\u001b[0m\n\u001b[0;32m    700\u001b[0m                     skip_blank_lines=skip_blank_lines)\n\u001b[0;32m    701\u001b[0m \u001b[1;33m\u001b[0m\u001b[0m\n\u001b[1;32m--> 702\u001b[1;33m         \u001b[1;32mreturn\u001b[0m \u001b[0m_read\u001b[0m\u001b[1;33m(\u001b[0m\u001b[0mfilepath_or_buffer\u001b[0m\u001b[1;33m,\u001b[0m \u001b[0mkwds\u001b[0m\u001b[1;33m)\u001b[0m\u001b[1;33m\u001b[0m\u001b[1;33m\u001b[0m\u001b[0m\n\u001b[0m\u001b[0;32m    703\u001b[0m \u001b[1;33m\u001b[0m\u001b[0m\n\u001b[0;32m    704\u001b[0m     \u001b[0mparser_f\u001b[0m\u001b[1;33m.\u001b[0m\u001b[0m__name__\u001b[0m \u001b[1;33m=\u001b[0m \u001b[0mname\u001b[0m\u001b[1;33m\u001b[0m\u001b[1;33m\u001b[0m\u001b[0m\n",
      "\u001b[1;32mc:\\users\\sebas\\documents\\github\\scg-analyse\\venv\\lib\\site-packages\\pandas\\io\\parsers.py\u001b[0m in \u001b[0;36m_read\u001b[1;34m(filepath_or_buffer, kwds)\u001b[0m\n\u001b[0;32m    433\u001b[0m \u001b[1;33m\u001b[0m\u001b[0m\n\u001b[0;32m    434\u001b[0m     \u001b[1;32mtry\u001b[0m\u001b[1;33m:\u001b[0m\u001b[1;33m\u001b[0m\u001b[1;33m\u001b[0m\u001b[0m\n\u001b[1;32m--> 435\u001b[1;33m         \u001b[0mdata\u001b[0m \u001b[1;33m=\u001b[0m \u001b[0mparser\u001b[0m\u001b[1;33m.\u001b[0m\u001b[0mread\u001b[0m\u001b[1;33m(\u001b[0m\u001b[0mnrows\u001b[0m\u001b[1;33m)\u001b[0m\u001b[1;33m\u001b[0m\u001b[1;33m\u001b[0m\u001b[0m\n\u001b[0m\u001b[0;32m    436\u001b[0m     \u001b[1;32mfinally\u001b[0m\u001b[1;33m:\u001b[0m\u001b[1;33m\u001b[0m\u001b[1;33m\u001b[0m\u001b[0m\n\u001b[0;32m    437\u001b[0m         \u001b[0mparser\u001b[0m\u001b[1;33m.\u001b[0m\u001b[0mclose\u001b[0m\u001b[1;33m(\u001b[0m\u001b[1;33m)\u001b[0m\u001b[1;33m\u001b[0m\u001b[1;33m\u001b[0m\u001b[0m\n",
      "\u001b[1;32mc:\\users\\sebas\\documents\\github\\scg-analyse\\venv\\lib\\site-packages\\pandas\\io\\parsers.py\u001b[0m in \u001b[0;36mread\u001b[1;34m(self, nrows)\u001b[0m\n\u001b[0;32m   1137\u001b[0m     \u001b[1;32mdef\u001b[0m \u001b[0mread\u001b[0m\u001b[1;33m(\u001b[0m\u001b[0mself\u001b[0m\u001b[1;33m,\u001b[0m \u001b[0mnrows\u001b[0m\u001b[1;33m=\u001b[0m\u001b[1;32mNone\u001b[0m\u001b[1;33m)\u001b[0m\u001b[1;33m:\u001b[0m\u001b[1;33m\u001b[0m\u001b[1;33m\u001b[0m\u001b[0m\n\u001b[0;32m   1138\u001b[0m         \u001b[0mnrows\u001b[0m \u001b[1;33m=\u001b[0m \u001b[0m_validate_integer\u001b[0m\u001b[1;33m(\u001b[0m\u001b[1;34m'nrows'\u001b[0m\u001b[1;33m,\u001b[0m \u001b[0mnrows\u001b[0m\u001b[1;33m)\u001b[0m\u001b[1;33m\u001b[0m\u001b[1;33m\u001b[0m\u001b[0m\n\u001b[1;32m-> 1139\u001b[1;33m         \u001b[0mret\u001b[0m \u001b[1;33m=\u001b[0m \u001b[0mself\u001b[0m\u001b[1;33m.\u001b[0m\u001b[0m_engine\u001b[0m\u001b[1;33m.\u001b[0m\u001b[0mread\u001b[0m\u001b[1;33m(\u001b[0m\u001b[0mnrows\u001b[0m\u001b[1;33m)\u001b[0m\u001b[1;33m\u001b[0m\u001b[1;33m\u001b[0m\u001b[0m\n\u001b[0m\u001b[0;32m   1140\u001b[0m \u001b[1;33m\u001b[0m\u001b[0m\n\u001b[0;32m   1141\u001b[0m         \u001b[1;31m# May alter columns / col_dict\u001b[0m\u001b[1;33m\u001b[0m\u001b[1;33m\u001b[0m\u001b[1;33m\u001b[0m\u001b[0m\n",
      "\u001b[1;32mc:\\users\\sebas\\documents\\github\\scg-analyse\\venv\\lib\\site-packages\\pandas\\io\\parsers.py\u001b[0m in \u001b[0;36mread\u001b[1;34m(self, nrows)\u001b[0m\n\u001b[0;32m   1993\u001b[0m     \u001b[1;32mdef\u001b[0m \u001b[0mread\u001b[0m\u001b[1;33m(\u001b[0m\u001b[0mself\u001b[0m\u001b[1;33m,\u001b[0m \u001b[0mnrows\u001b[0m\u001b[1;33m=\u001b[0m\u001b[1;32mNone\u001b[0m\u001b[1;33m)\u001b[0m\u001b[1;33m:\u001b[0m\u001b[1;33m\u001b[0m\u001b[1;33m\u001b[0m\u001b[0m\n\u001b[0;32m   1994\u001b[0m         \u001b[1;32mtry\u001b[0m\u001b[1;33m:\u001b[0m\u001b[1;33m\u001b[0m\u001b[1;33m\u001b[0m\u001b[0m\n\u001b[1;32m-> 1995\u001b[1;33m             \u001b[0mdata\u001b[0m \u001b[1;33m=\u001b[0m \u001b[0mself\u001b[0m\u001b[1;33m.\u001b[0m\u001b[0m_reader\u001b[0m\u001b[1;33m.\u001b[0m\u001b[0mread\u001b[0m\u001b[1;33m(\u001b[0m\u001b[0mnrows\u001b[0m\u001b[1;33m)\u001b[0m\u001b[1;33m\u001b[0m\u001b[1;33m\u001b[0m\u001b[0m\n\u001b[0m\u001b[0;32m   1996\u001b[0m         \u001b[1;32mexcept\u001b[0m \u001b[0mStopIteration\u001b[0m\u001b[1;33m:\u001b[0m\u001b[1;33m\u001b[0m\u001b[1;33m\u001b[0m\u001b[0m\n\u001b[0;32m   1997\u001b[0m             \u001b[1;32mif\u001b[0m \u001b[0mself\u001b[0m\u001b[1;33m.\u001b[0m\u001b[0m_first_chunk\u001b[0m\u001b[1;33m:\u001b[0m\u001b[1;33m\u001b[0m\u001b[1;33m\u001b[0m\u001b[0m\n",
      "\u001b[1;32mpandas\\_libs\\parsers.pyx\u001b[0m in \u001b[0;36mpandas._libs.parsers.TextReader.read\u001b[1;34m()\u001b[0m\n",
      "\u001b[1;32mpandas\\_libs\\parsers.pyx\u001b[0m in \u001b[0;36mpandas._libs.parsers.TextReader._read_low_memory\u001b[1;34m()\u001b[0m\n",
      "\u001b[1;32mpandas\\_libs\\parsers.pyx\u001b[0m in \u001b[0;36mpandas._libs.parsers.TextReader._read_rows\u001b[1;34m()\u001b[0m\n",
      "\u001b[1;32mpandas\\_libs\\parsers.pyx\u001b[0m in \u001b[0;36mpandas._libs.parsers.TextReader._tokenize_rows\u001b[1;34m()\u001b[0m\n",
      "\u001b[1;32mpandas\\_libs\\parsers.pyx\u001b[0m in \u001b[0;36mpandas._libs.parsers.raise_parser_error\u001b[1;34m()\u001b[0m\n",
      "\u001b[1;31mParserError\u001b[0m: Error tokenizing data. C error: out of memory"
     ]
    }
   ],
   "source": [
    "# Lijst van .csv-bestanden\n",
    "data_file_paths = list(data_path.glob(\"*.csv\"))\n",
    "\n",
    "if len(data_file_paths) == 0:\n",
    "    raise Warning(\"No .csv files found in \" + str(data_path) + \"; Note that data files are not stored in this repository, and must be downloaded manually.\")\n",
    "\n",
    "\n",
    "# Geef het circuitnummer (4 cijfers) dat in de naam van een Path staat\n",
    "circuitnum_from_file_path = lambda file_path: int(file_path.name.split('-')[0])\n",
    "\n",
    "# Drie dictionaries, met als keys de circuitnummers (int), als value de Pandas DataFrame van de .csv.\n",
    "cable_config       = {circuitnum_from_file_path(fp): pd.read_csv(fp, sep=\";\") for fp in data_file_paths if 'cableconfig' in fp.name}\n",
    "partial_discharges = {circuitnum_from_file_path(fp): pd.read_csv(fp, sep=\";\") for fp in data_file_paths if 'pd' in fp.name}\n",
    "warning            = {circuitnum_from_file_path(fp): pd.read_csv(fp, sep=\";\") for fp in data_file_paths if 'warning' in fp.name}\n",
    "\n",
    "# Sla de keys op van alle kabels waarvoor PD data bestaat.\n",
    "circuits = list(partial_discharges)\n",
    "\n",
    "print(\"Cable config loaded for circuits:\", list(cable_config))\n",
    "print(\"   PD series loaded for circuits:\", list(partial_discharges))\n",
    "print(\"Warning logs loaded for circuits:\", list(warning))"
   ]
  },
  {
   "cell_type": "code",
   "execution_count": null,
   "metadata": {},
   "outputs": [],
   "source": [
    "# Standaardkeuze:\n",
    "circ = circuits[1]"
   ]
  },
  {
   "cell_type": "code",
   "execution_count": null,
   "metadata": {},
   "outputs": [],
   "source": [
    "def update_fig(event):\n",
    "    global circ\n",
    "    if event.name == 'value':\n",
    "        circ = event.new\n",
    "        # Gebruik deze 'hack' om alle cellen onder de huidige opnieuw te runnen\n",
    "        display(Javascript(\"IPython.notebook.execute_cell_range(IPython.notebook.get_selected_index()+1,IPython.notebook.get_cells().length)\"))\n",
    "\n",
    "\n",
    "circuit_chooser = ipywidgets.Dropdown(options=circuits,\n",
    "                                      value=circ,\n",
    "                                      description='Circuit:',\n",
    "                                      disabled=False)\n",
    "circuit_chooser.observe(update_fig)\n",
    "\n",
    "display(Markdown(\"-----------\"))\n",
    "display(Markdown(\"# Kies een circuit:\"))\n",
    "display(circuit_chooser)\n",
    "display(Markdown(\"-----------\"))"
   ]
  },
  {
   "cell_type": "code",
   "execution_count": null,
   "metadata": {},
   "outputs": [],
   "source": [
    "# Lengte van de kabel is gegeven in de cable config\n",
    "cable_length = cable_config[circ]['Cumulative length (m)'].values[-1]\n",
    "\n",
    "\n",
    "pd_raw = partial_discharges[circ]\n",
    "# Sla de drie kolomnamen van PD voor het gemak op\n",
    "date, location, charge = pd_raw.columns\n",
    "pd = pd_raw.dropna(subset=[charge])\n",
    "print(pd.head())\n",
    "\n",
    "\n"
   ]
  },
  {
   "cell_type": "code",
   "execution_count": null,
   "metadata": {},
   "outputs": [],
   "source": [
    "\n",
    "# use_threshold = True\n",
    "# if(use_threshold):\n",
    "#     pd = pd[ pd.charge > threshold ]\n",
    "# # De drie kolommen; alleen op tijdstippen met PD\n",
    "# locations = pd_thresh[location]\n",
    "# charges = pd_thresh[charge]\n",
    "# times = pd_thresh[date].apply(lambda date_string: datetime.datetime.strptime(date_string, \"%Y-%m-%d %H:%M:%S\"))\n",
    "# charges\n",
    "\n",
    "# pd[5:12]\n",
    "# print(pd.iloc[5].date)\n",
    "# print(pd.date.loc[382])\n"
   ]
  },
  {
   "cell_type": "code",
   "execution_count": null,
   "metadata": {},
   "outputs": [],
   "source": []
  },
  {
   "cell_type": "markdown",
   "metadata": {},
   "source": [
    "We hebben nu een pandas dataframe pd waarbij we de momenten zonder partial discharge hebben verwijderd."
   ]
  },
  {
   "cell_type": "code",
   "execution_count": null,
   "metadata": {},
   "outputs": [],
   "source": [
    "locations, dates, charges = pd[location], pd[date].apply(datetime.datetime.fromisoformat), pd[charge]"
   ]
  },
  {
   "cell_type": "code",
   "execution_count": null,
   "metadata": {},
   "outputs": [],
   "source": [
    "print(locations.head())\n",
    "print(dates.head())"
   ]
  },
  {
   "cell_type": "code",
   "execution_count": null,
   "metadata": {},
   "outputs": [],
   "source": [
    "%matplotlib notebook\n",
    "\n",
    "fig,ax = plt.subplots()\n",
    "\n",
    "ax.scatter(x=locations, y=dates, s=charges/1e4, c='.0')\n",
    "#ax.set_xlabel(\"Location\")\n",
    "#ax.set_ylabel(\"Date\")\n",
    "\n",
    "#ax.set_title(\"Circuit {0}\".format(circ))\n",
    "fig.show()\n"
   ]
  },
  {
   "cell_type": "code",
   "execution_count": null,
   "metadata": {},
   "outputs": [],
   "source": [
    "############ PARAMETERS ############\n",
    "\n",
    "bin_size = 2.0 # meter\n",
    "count_charges = False\n",
    "\n",
    "####################################\n",
    "\n",
    "bins = np.arange(start=0., stop=cable_length, step=bin_size)\n",
    "# Tel inhoud van elk bakje:\n",
    "\n",
    "binned_pds, _ = np.histogram(locations, bins=bins, weights=charges if count_charges else None)"
   ]
  },
  {
   "cell_type": "markdown",
   "metadata": {},
   "source": [
    "Hieronder staan gewoon de normale histogrammen zonder drempel"
   ]
  },
  {
   "cell_type": "code",
   "execution_count": null,
   "metadata": {
    "scrolled": false
   },
   "outputs": [],
   "source": [
    "fig,ax = plt.subplots(2,1,figsize=(12,12))\n",
    "\n",
    "ax1,ax2 = ax\n",
    "\n",
    "ax1.hist(locations,bins=bins,color='0')\n",
    "ax1.set_xlabel(\"Location (m)\")\n",
    "ax1.set_ylabel(\"Number of PDs\")\n",
    "\n",
    "ax2.hist(locations,bins=bins, weights=charges,color='0')\n",
    "ax2.set_xlabel(\"Location (m)\")\n",
    "ax2.set_ylabel(\"Cumulative charge (pC)\")\n",
    "\n",
    "fig.show()"
   ]
  },
  {
   "cell_type": "markdown",
   "metadata": {},
   "source": [
    "Hieronder zijn we weer terug bij af. Ik ga experimenteren met drempels en met density plots"
   ]
  },
  {
   "cell_type": "code",
   "execution_count": null,
   "metadata": {},
   "outputs": [],
   "source": [
    "############ PARAMETERS ############\n",
    "\n",
    "bin_size = 5.0 # meter\n",
    "count_charges = False\n",
    "densitybool = True\n",
    "threshold = 10000\n",
    "\n",
    "####################################\n",
    "pd_thresh = pd[pd[charge]>threshold]\n",
    "\n",
    "locationsth, datesth, chargesth = pd_thresh[location], pd_thresh[date].apply(datetime.datetime.fromisoformat), pd_thresh[charge]\n",
    "bins = int(cable_length/bin_size)\n"
   ]
  },
  {
   "cell_type": "code",
   "execution_count": null,
   "metadata": {},
   "outputs": [],
   "source": [
    "# def plot_histogram(locations):\n",
    "#     %matplotlib notebook\n",
    "\n",
    "#     fig,ax = plt.subplots()\n",
    "\n",
    "#     ax.hist(locations,density=densitybool, bins=bins, weights=chargesth if count_charges else None, color='0')\n",
    "#     ax.set_xlabel(\"Location (m)\")\n",
    "#     ax.set_ylabel(\"Number of PDs\")\n",
    "#     ax.set_title(\"Histogram van circuit {0}\".format(circ)+\" met emmers van \"+str(bin_size) +\" meter en een drempel van \"+str(threshold))\n",
    "\n",
    "#     fig.show()"
   ]
  },
  {
   "cell_type": "code",
   "execution_count": null,
   "metadata": {},
   "outputs": [],
   "source": [
    "%matplotlib notebook\n",
    "\n",
    "fig,ax = plt.subplots()\n",
    "\n",
    "ax.hist(locationsth,density=densitybool, bins=bins, weights=chargesth if count_charges else None, color='0')\n",
    "ax.set_xlabel(\"Location (m)\")\n",
    "ax.set_ylabel(\"Number of PDs\")\n",
    "ax.set_title(\"Histogram van circuit {0}\".format(circ)+\" met emmers van \"+str(bin_size) +\" meter en een drempel van \"+str(threshold))\n",
    "\n",
    "fig.show()"
   ]
  },
  {
   "cell_type": "markdown",
   "metadata": {},
   "source": [
    "Ik wil hieronder de verdeling van de charges plotten om een idee te krijgen."
   ]
  },
  {
   "cell_type": "code",
   "execution_count": null,
   "metadata": {},
   "outputs": [],
   "source": [
    "%matplotlib notebook\n",
    "\n",
    "fig,ax = plt.subplots()\n",
    "\n",
    "ax.hist(charges, density=True, bins=1000, color='0')\n",
    "ax.set_xlabel(\"Charge (picocoulomb)\")\n",
    "ax.set_ylabel(\"Relative number of PDs\")\n",
    "ax.set_title(\"Circuit {0}\".format(circ)+\": dichtheidsfunctie charges\")\n",
    "fig.show()"
   ]
  },
  {
   "cell_type": "markdown",
   "metadata": {},
   "source": [
    "Hieronder bekijk ik de dichtheden van de histogrammen. In andere woorden ik kijk hoe het aantal pds per emmertje verdeeld is."
   ]
  },
  {
   "cell_type": "code",
   "execution_count": null,
   "metadata": {},
   "outputs": [],
   "source": [
    "count_charges = False"
   ]
  },
  {
   "cell_type": "code",
   "execution_count": null,
   "metadata": {},
   "outputs": [],
   "source": [
    "def histofhist(locations, bins, charges, count_charges):\n",
    "    %matplotlib notebook\n",
    "\n",
    "    fig,ax = plt.subplots()\n",
    "    binned_pds, _ = np.histogram(locations, bins=bins, weights=charges if count_charges else None)\n",
    "    ax.hist(binned_pds, density=False, bins=1000, color='0')\n",
    "    ax.set_xlabel(\"Number of pds per bin\")\n",
    "    ax.set_ylabel(\"Number of bins\")\n",
    "    ax.set_title(\"Circuit {0}\".format(circ)+\": Hoeveelheid bins met bepaalde hoeveelheid pds per bin\")\n",
    "\n",
    "    fig.show()\n",
    "histofhist(locations, bins, charges, count_charges)"
   ]
  },
  {
   "cell_type": "markdown",
   "metadata": {},
   "source": [
    "Ik kijk hieronder naar het aantal pds per dag en wellicht per week."
   ]
  },
  {
   "cell_type": "code",
   "execution_count": null,
   "metadata": {},
   "outputs": [],
   "source": [
    "############\n",
    "#parameters voor tellen pds per dag\n",
    "densitybool = False\n",
    "count_charges = False\n",
    "print(dates.iloc[0])\n",
    "print(dates.iloc[-1])\n",
    "print((dates.iloc[-1]-dates.iloc[0]).days)\n",
    "bins = (dates.iloc[-1]-dates.iloc[0]).days\n",
    "#pandas.date_range(start=dates.iloc[0], end=dates.iloc[-1], periods=bins,)"
   ]
  },
  {
   "cell_type": "code",
   "execution_count": null,
   "metadata": {},
   "outputs": [],
   "source": [
    "%matplotlib notebook\n",
    "\n",
    "fig,ax = plt.subplots()\n",
    "\n",
    "ax.hist(dates,density=False, bins=bins, weights=charges if count_charges else None, color='0', orientation='horizontal')\n",
    "ax.set_ylabel(\"Date\")\n",
    "ax.set_xlabel(\"Number of PDs\")\n",
    "ax.set_title(\"Histogram van circuit {0}\".format(circ)+\" met emmers van dagen\")\n",
    "fig.show()"
   ]
  },
  {
   "cell_type": "markdown",
   "metadata": {},
   "source": [
    "Ik wil kijken of het handig is om te kijken naar de charges bij het bepalen van de verschillende"
   ]
  },
  {
   "cell_type": "code",
   "execution_count": null,
   "metadata": {},
   "outputs": [],
   "source": [
    "%matplotlib notebook\n",
    "\n",
    "fig,ax = plt.subplots(2,1,figsize=(10,8))\n",
    "\n",
    "ax1,ax2 = ax\n",
    "\n",
    "ax1.hist(dates,density=True, bins=bins, color='0')\n",
    "ax1.set_xlabel(\"Date\")\n",
    "ax1.set_ylabel(\"Relative number of PDs\")\n",
    "ax1.set_title(\"Circuit {0}\".format(circ)+\": Relatieve hoeveelheid pds per dag vs cumulatieve charges\")\n",
    "\n",
    "ax2.hist(dates,density=True, bins=bins, weights=charges, color='0')\n",
    "ax2.set_xlabel(\"Date\")\n",
    "ax2.set_ylabel(\"Relative cumulative charge\")\n",
    "\n",
    "fig.show()"
   ]
  },
  {
   "cell_type": "code",
   "execution_count": null,
   "metadata": {},
   "outputs": [],
   "source": [
    "%matplotlib notebook\n",
    "\n",
    "fig,ax = plt.subplots(2,1,figsize=(10,7))\n",
    "\n",
    "ax2,ax1 = ax\n",
    "\n",
    "ax1.hist(dates,density=False, bins=bins, weights=charges if count_charges else None, color='0', orientation='vertical')\n",
    "ax1.set_xlabel(\"Date\")\n",
    "ax1.set_ylabel(\"Number of PDs\")\n",
    "\n",
    "# ax2.hist(locations,bins=bins, weights=charges,color='0')\n",
    "# ax2.set_xlabel(\"Location (m)\")\n",
    "# ax2.set_ylabel(\"Cumulative charge (pC)\")\n",
    "ax2.scatter(x=dates, y=locations, s=charges/1e4, c='.0')\n",
    "ax2.set_xlabel(\"Location\")\n",
    "ax2.set_title(\"Scatterplot + histogram van circuit {0}\".format(circ)+\" voor de verdeling van de pds over de tijd\")\n",
    "\n",
    "fig.show()"
   ]
  },
  {
   "cell_type": "code",
   "execution_count": null,
   "metadata": {},
   "outputs": [],
   "source": [
    "%matplotlib notebook\n",
    "\n",
    "fig,ax = plt.subplots()\n",
    "\n",
    "\n",
    "ax.hist(dates,density=False, bins=bins, weights=charges if count_charges else None, color='red', orientation='horizontal')\n",
    "# ax.set_xlabel(\"Date\")\n",
    "ax.set_ylabel(\"Date\")\n",
    "ax.set_title(\"Histogram van circuit {0}\".format(circ)+\" met emmers van dagen\")\n",
    "\n",
    "ax.scatter(x=locations, y=dates, s=charges/1e4,color='blue')\n",
    "\n",
    "# ax2.set_xlabel(\"Location\")\n",
    "# ax2.set_ylabel(\"Date\")\n",
    "# ax2.set_title(\"Circuit {0}\".format(circ))\n",
    "\n",
    "fig.show()"
   ]
  },
  {
   "cell_type": "code",
   "execution_count": null,
   "metadata": {},
   "outputs": [],
   "source": [
    "dates"
   ]
  },
  {
   "cell_type": "code",
   "execution_count": null,
   "metadata": {},
   "outputs": [],
   "source": [
    "# Lengte van de kabel is gegeven in de cable config\n",
    "cable_length = cable_config[circ]['Cumulative length (m)'].values[-1]\n",
    "\n",
    "\n",
    "pd_raw = partial_discharges[circ]\n",
    "\n",
    "start_loc = 1600\n",
    "end_loc = 1800\n",
    "\n",
    "# Sla de drie kolomnamen van PD voor het gemak op\n",
    "date, location, charge = pd_raw.columns\n",
    "pd = pd_raw.dropna(subset=[charge])\n",
    "pd_loc = pd[pd.location>1600 and pd.location<1800]\n",
    "print(pd.head())\n",
    "\n",
    "locations, dates, charges = pd_loc[location], pd_loc[date].apply(datetime.datetime.fromisoformat), pd_loc[charge]"
   ]
  },
  {
   "cell_type": "code",
   "execution_count": null,
   "metadata": {},
   "outputs": [],
   "source": [
    "\n",
    "\n",
    "%matplotlib notebook\n",
    "\n",
    "fig,ax = plt.subplots(2,1,figsize=(10,8))\n",
    "\n",
    "ax1,ax2 = ax\n",
    "\n",
    "ax1.hist(dates_loc,density=True, bins=bins, color='0')\n",
    "ax1.set_xlabel(\"Date\")\n",
    "ax1.set_ylabel(\"Relative number of PDs\")\n",
    "ax1.set_title(\"Circuit {0}\".format(circ)+\": Relatieve hoeveelheid pds per dag vs cumulatieve charges\")\n",
    "\n",
    "ax2.hist(dates_loc,density=True, bins=bins, weights=charges, color='0')\n",
    "ax2.set_xlabel(\"Date\")\n",
    "ax2.set_ylabel(\"Relative cumulative charge\")\n",
    "\n",
    "fig.show()"
   ]
  }
 ],
 "metadata": {
  "kernelspec": {
   "display_name": "venv",
   "language": "python",
   "name": "venv"
  },
  "language_info": {
   "codemirror_mode": {
    "name": "ipython",
    "version": 3
   },
   "file_extension": ".py",
   "mimetype": "text/x-python",
   "name": "python",
   "nbconvert_exporter": "python",
   "pygments_lexer": "ipython3",
   "version": "3.7.3"
  }
 },
 "nbformat": 4,
 "nbformat_minor": 2
}
