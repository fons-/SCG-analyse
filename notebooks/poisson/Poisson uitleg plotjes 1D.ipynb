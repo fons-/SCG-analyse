{
 "cells": [
  {
   "cell_type": "markdown",
   "metadata": {},
   "source": [
    "# Clustermethode: Poisson 🐟\n",
    "\n",
    "Dit model deelt de lijn op in een aantal bakjes (elke **4 meter**), en accumeleert dan alle PDs per bakje. Hierbij kan PD-lading **wel of niet** worden meegenomen. (Een mogelijk verbeterpunt is dat de tijd ook wordt opgesplitst in een aantal delen.) Vervolgens wordt aangenomen dat **ten minste 80% van de kabel** nominaal PD-gedrag vertoont. \n",
    "\n",
    "De 80% van de bakjes met het laagste aantal PDs wordt gebruikt om een Poisson-verdeling te fitten voor nominaal PD-gedrag. (Hierbij wordt rekening gehouden met het feit dat alleen de 80% kleinste realisaties bekend zijn.)\n",
    "\n",
    "Vervolgens wordt de volledige lijn weer beschouwd. Alle bakjes waarin het aantal PDs een onwaarschijnlijkheid heeft van **minimaal 5%**, _gegeven de gevonden verdeling voor nominaal PD-gedrag_, wordt als een zeer verdacht hokje beschouwd.\n",
    "\n",
    "Ten slotte worden alle aangrenzende, zeer verdachte hokjes samengenomen tot een _cluster_. Twee clusters die **maximaal 2** hokjes uit elkaar liggen, worden als één cluster beschouwd. Er geldt ook beperking dat een cluster  **minimaal 3** verdachte hokjes moet bevatten, zoniet wordt het cluster genegeerd.\n",
    "\n",
    "---------\n",
    "\n",
    "## Parameters\n",
    "De vijf **dikgedrukte** getallen zijn parameters die aangepast kunnen worden. De huidige keuze identificeert de gewenste resultaten. Wanneer er geen clusters zijn, wordt dit correct herkend.\n",
    "\n",
    "Het aantal parameters lijkt hoog, maar dit zorgt er juist voor dat dezelfde parameters op alle circuits goed werken.\n",
    "\n",
    "----------\n",
    "\n",
    "## Snelheid\n",
    "\n",
    "Zonder parallelisatie, op een Intel i5. Hierbij wordt het inladen (en plotten) van een dataset niet meegeteld.\n",
    "\n",
    "**Circuit 2145 (hoogste aantal PDs)**\n",
    "\n",
    "| Routine                                    | Tijd (`%%timeit`)    |\n",
    "| ------------------------------------------ | -------------------- |\n",
    "| Discretiseren; PDs tellen                  | 3.72 ms ± 88.5 µs    |\n",
    "| 80% kwantiel bepalen                       | 9.51 µs ± 604 ns     |\n",
    "| Poisson-verdeling fitten                   | 108 µs ± 3.21 µs     |\n",
    "| 95% kwantiel van Poisson-verdeling bepalen | 105 µs ± 6.75 µs     |\n",
    "| Zeer verdachte hokjes identificeren        | 2.72 µs ± 43.8 ns    |\n",
    "| Clusteren van Boolean reeks                | 84.4 µs ± 4.86 µs    |\n",
    "| **Totaal**                                 | **4.03 ms ± 100 µs** |\n",
    "\n",
    "De duidelijke bottleneck is het tellen van PDs in hokjes. Hier wordt de ingebouwde functie `np.histogram` voor gebruikt, en zal waarschijnlijk dus alleen sneller kunnen door te paralleliseren."
   ]
  },
  {
   "cell_type": "code",
   "execution_count": 1,
   "metadata": {},
   "outputs": [
    {
     "ename": "ModuleNotFoundError",
     "evalue": "No module named 'clusterizer'",
     "output_type": "error",
     "traceback": [
      "\u001b[1;31m---------------------------------------------------------------------------\u001b[0m",
      "\u001b[1;31mModuleNotFoundError\u001b[0m                       Traceback (most recent call last)",
      "\u001b[1;32m<ipython-input-1-76ec15be4b31>\u001b[0m in \u001b[0;36m<module>\u001b[1;34m\u001b[0m\n\u001b[0;32m     18\u001b[0m \u001b[1;32mimport\u001b[0m \u001b[0msys\u001b[0m\u001b[1;33m\u001b[0m\u001b[0m\n\u001b[0;32m     19\u001b[0m \u001b[0msys\u001b[0m\u001b[1;33m.\u001b[0m\u001b[0mpath\u001b[0m\u001b[1;33m.\u001b[0m\u001b[0mappend\u001b[0m\u001b[1;33m(\u001b[0m\u001b[1;34m'..'\u001b[0m\u001b[1;33m)\u001b[0m\u001b[1;33m\u001b[0m\u001b[0m\n\u001b[1;32m---> 20\u001b[1;33m \u001b[1;32mimport\u001b[0m \u001b[0mclusterizer\u001b[0m\u001b[1;33m\u001b[0m\u001b[0m\n\u001b[0m\u001b[0;32m     21\u001b[0m \u001b[1;33m\u001b[0m\u001b[0m\n\u001b[0;32m     22\u001b[0m \u001b[0mget_ipython\u001b[0m\u001b[1;33m(\u001b[0m\u001b[1;33m)\u001b[0m\u001b[1;33m.\u001b[0m\u001b[0mrun_line_magic\u001b[0m\u001b[1;33m(\u001b[0m\u001b[1;34m'load_ext'\u001b[0m\u001b[1;33m,\u001b[0m \u001b[1;34m'autoreload'\u001b[0m\u001b[1;33m)\u001b[0m\u001b[1;33m\u001b[0m\u001b[0m\n",
      "\u001b[1;31mModuleNotFoundError\u001b[0m: No module named 'clusterizer'"
     ]
    }
   ],
   "source": [
    "import numpy as np\n",
    "import pandas as pd\n",
    "import scipy.stats\n",
    "import matplotlib.pyplot as plt\n",
    "import datetime\n",
    "from pandas.plotting import register_matplotlib_converters\n",
    "register_matplotlib_converters()\n",
    "import ipywidgets\n",
    "from IPython.display import display, clear_output, Javascript, Markdown\n",
    "\n",
    "# Hogere DPI voor plotjes (is mooi)\n",
    "%config InlineBackend.figure_format = 'retina'\n",
    "# Standaard grootte van plotjes in inches\n",
    "plt.rcParams['figure.figsize'] = [8, 5]\n",
    "\n",
    "plotargs = {\"figsize\": (8,5), \"dpi\": 100}\n",
    "\n",
    "import sys\n",
    "sys.path.append('../..')\n",
    "import clusterizer\n",
    "\n",
    "%load_ext autoreload\n",
    "%autoreload 2"
   ]
  },
  {
   "cell_type": "markdown",
   "metadata": {},
   "source": [
    "# Dataset laden\n",
    "\n",
    "Eerst zoeken we de root-map van deze reposity, en vanaf daar de data-map. Door `pathlib` te gebruiken werkt deze code op elke OS, en door de root te zoeken ook vanaf elk script/notebook in de repository."
   ]
  },
  {
   "cell_type": "markdown",
   "metadata": {},
   "source": [
    "# Analyse\n",
    "We kiezen eerst een circuit uit."
   ]
  },
  {
   "cell_type": "code",
   "execution_count": null,
   "metadata": {},
   "outputs": [],
   "source": [
    "# Standaardkeuze:\n",
    "circuitnr = clusterizer.globals.available_circuits[5]"
   ]
  },
  {
   "cell_type": "code",
   "execution_count": null,
   "metadata": {},
   "outputs": [
    {
     "data": {
      "application/javascript": [
       "IPython.notebook.execute_cell_range(IPython.notebook.get_selected_index()+1,IPython.notebook.get_cells().length)"
      ],
      "text/plain": [
       "<IPython.core.display.Javascript object>"
      ]
     },
     "metadata": {},
     "output_type": "display_data"
    },
    {
     "data": {
      "application/javascript": [
       "IPython.notebook.execute_cell_range(IPython.notebook.get_selected_index()+1,IPython.notebook.get_cells().length)"
      ],
      "text/plain": [
       "<IPython.core.display.Javascript object>"
      ]
     },
     "metadata": {},
     "output_type": "display_data"
    },
    {
     "data": {
      "application/javascript": [
       "IPython.notebook.execute_cell_range(IPython.notebook.get_selected_index()+1,IPython.notebook.get_cells().length)"
      ],
      "text/plain": [
       "<IPython.core.display.Javascript object>"
      ]
     },
     "metadata": {},
     "output_type": "display_data"
    },
    {
     "data": {
      "application/javascript": [
       "IPython.notebook.execute_cell_range(IPython.notebook.get_selected_index()+1,IPython.notebook.get_cells().length)"
      ],
      "text/plain": [
       "<IPython.core.display.Javascript object>"
      ]
     },
     "metadata": {},
     "output_type": "display_data"
    }
   ],
   "source": [
    "def update_fig(event):\n",
    "    global circuitnr\n",
    "    if event.name == 'value':\n",
    "        circuitnr = event.new\n",
    "        # Gebruik deze 'hack' om alle cellen onder de huidige opnieuw te runnen\n",
    "        display(Javascript(\"IPython.notebook.execute_cell_range(IPython.notebook.get_selected_index()+1,IPython.notebook.get_cells().length)\"))\n",
    "\n",
    "\n",
    "circuit_chooser = ipywidgets.Dropdown(options=sorted(clusterizer.globals.available_circuits),\n",
    "                                      value=circuitnr,\n",
    "                                      description='Circuit:',\n",
    "                                      disabled=False)\n",
    "circuit_chooser.observe(update_fig)\n",
    "\n",
    "display(Markdown(\"-----------\"))\n",
    "display(Markdown(\"# Kies een circuit:\"))\n",
    "display(circuit_chooser)\n",
    "display(Markdown(\"-----------\"))"
   ]
  },
  {
   "cell_type": "markdown",
   "metadata": {},
   "source": [
    "Sla data van dit circuit op, en laat alle tijdstippen weg waar geen PD was."
   ]
  },
  {
   "cell_type": "code",
   "execution_count": null,
   "metadata": {},
   "outputs": [],
   "source": [
    "circuit = clusterizer.circuit.MergedCircuit(circuitnr)\n",
    "circuit.build()\n",
    "\n",
    "pr = \"poisson_plots_1d_circuit_{}_\".format(circuitnr)"
   ]
  },
  {
   "cell_type": "code",
   "execution_count": null,
   "metadata": {
    "scrolled": true
   },
   "outputs": [],
   "source": [
    "# De drie kolommen; alleen op tijdstippen met PD\n",
    "locations = circuit.pd['Location in meters (m)'][circuit.pd_occured].values\n",
    "times = circuit.pd['Date/time (UTC)'][circuit.pd_occured].values\n",
    "charges = circuit.pd['Charge (picocoulomb)'][circuit.pd_occured].values"
   ]
  },
  {
   "cell_type": "code",
   "execution_count": null,
   "metadata": {},
   "outputs": [],
   "source": [
    "%matplotlib inline\n",
    "\n",
    "fig, ax = plt.subplots(**plotargs)\n",
    "\n",
    "clusterizer.plot.draw_location_time_scatter(circuit, ax=ax)\n",
    "\n",
    "clusterizer.plot.save_figure_for_google_slides(pr+\"A\", reset_size=False)\n",
    "clusterizer.plot.save_figure_for_latex(pr+\"A\", reset_size=False)"
   ]
  },
  {
   "cell_type": "markdown",
   "metadata": {},
   "source": [
    "# Afstand discretiseren\n",
    "\n",
    "In de data is afstand continu, dwz dat er (waarschijnlijk)\\* geen twee PDs op precies dezelfde locatie plaatsvinden. Je kan dus nog niet praten over het 'aantal PDs op x meter'. Het lijkt dus nuttig om de afstand te discretiseren: opsplitsen in een eindig aantal 'bins', waarin elke PD-locatie valt.\n",
    "\n",
    "\\* Dit is niet helemaal waar, het aantal unieke locaties is ongeveer een tiende van het aantal PDs. Er is dus waarschijnlijk al gediscretiseerd, het lijkt elke 25cm te zijn."
   ]
  },
  {
   "cell_type": "code",
   "execution_count": null,
   "metadata": {},
   "outputs": [],
   "source": [
    "rectangles, bins, bin_contents, nominal_pd_quantile_level, rate, fault_pd_level = clusterizer.algorithms.clusterize_poisson_1d(circuit, return_intermediate_values=True)"
   ]
  },
  {
   "cell_type": "code",
   "execution_count": null,
   "metadata": {},
   "outputs": [],
   "source": []
  },
  {
   "cell_type": "code",
   "execution_count": null,
   "metadata": {},
   "outputs": [],
   "source": [
    "fig, ax = plt.subplots(2,1, sharex=True, figsize=(8,6), dpi=100)\n",
    "\n",
    "plt.subplots_adjust(hspace=.1)\n",
    "\n",
    "ax[0].bar(bins[:-1], bin_contents, width=(bins[1]-bins[0]), color=\"black\")\n",
    "clusterizer.plot.draw_location_time_scatter(circuit, ax[1])\n",
    "ax[1].set_title(None)\n",
    "ax[0].set_ylabel(\"Number of PDs\")\n",
    "\n",
    "clusterizer.plot.save_figure_for_google_slides(pr+\"B\", reset_size=False)\n",
    "clusterizer.plot.save_figure_for_latex(pr+\"B\", reset_size=False)"
   ]
  },
  {
   "cell_type": "markdown",
   "metadata": {},
   "source": [
    "## Aanname 1:\n",
    "> Met het grootste gedeelte van de lijn is niks aan de hand.\n",
    "\n",
    "We kiezen een **ondergrens voor het percentage locaties waarop niks aan de hand is**."
   ]
  },
  {
   "cell_type": "code",
   "execution_count": null,
   "metadata": {},
   "outputs": [],
   "source": [
    "############ PARAMETER ############\n",
    "\n",
    "lower_limit_nominal = 80.0/100.0\n",
    "\n",
    "###################################"
   ]
  },
  {
   "cell_type": "code",
   "execution_count": null,
   "metadata": {},
   "outputs": [],
   "source": [
    "fig, ax = plt.subplots(2,1, sharex=True, figsize=(8,6), dpi=100)\n",
    "\n",
    "plt.subplots_adjust(hspace=.1)\n",
    "\n",
    "ax[0].bar(bins[:-1], bin_contents, width=(bins[1]-bins[0]), color=\"black\")\n",
    "clusterizer.plot.draw_location_time_scatter(circuit, ax[1])\n",
    "ax[1].set_title(None)\n",
    "ax[0].set_ylabel(\"Number of PDs\")\n",
    "\n",
    "clusterizer.plot.overlay_boolean_series(bin_contents <= nominal_pd_quantile_level, bins[:-1], ax=ax[0], color=\"#00ff11\")\n",
    "clusterizer.plot.overlay_boolean_series(bin_contents <= nominal_pd_quantile_level, bins[:-1], ax=ax[1], color=\"#00ff11\")\n",
    "\n",
    "clusterizer.plot.save_figure_for_google_slides(pr+\"C\", reset_size=False)\n",
    "clusterizer.plot.save_figure_for_latex(pr+\"C\", reset_size=False)"
   ]
  },
  {
   "cell_type": "code",
   "execution_count": null,
   "metadata": {},
   "outputs": [],
   "source": [
    "fig, ax = plt.subplots(**plotargs)\n",
    "\n",
    "plt.subplots_adjust(hspace=.1)\n",
    "\n",
    "ax.bar(bins[:-1], bin_contents, width=(bins[1]-bins[0]), color=\"black\")\n",
    "ax.set_ylabel(\"Number of PDs\")\n",
    "\n",
    "clusterizer.plot.overlay_boolean_series(bin_contents <= nominal_pd_quantile_level, bins[:-1], ax=ax, color=\"#00ff11\")\n",
    "\n",
    "clusterizer.plot.save_figure_for_google_slides(pr+\"D\", reset_size=False)\n",
    "clusterizer.plot.save_figure_for_latex(pr+\"D\", reset_size=False)"
   ]
  },
  {
   "cell_type": "code",
   "execution_count": null,
   "metadata": {},
   "outputs": [],
   "source": [
    "fig, ax = plt.subplots(**plotargs)\n",
    "\n",
    "ax.bar(bins[:-1], bin_contents * (bin_contents <= nominal_pd_quantile_level), width=(bins[1]-bins[0]), color=\"black\")\n",
    "ax.set_ylabel(\"Number of PDs\")\n",
    "\n",
    "clusterizer.plot.overlay_boolean_series(bin_contents <= nominal_pd_quantile_level, bins[:-1], ax=ax, color=\"#00ff11\")\n",
    "\n",
    "clusterizer.plot.save_figure_for_google_slides(pr+\"E\", reset_size=False)\n",
    "clusterizer.plot.save_figure_for_latex(pr+\"E\", reset_size=False)"
   ]
  },
  {
   "cell_type": "code",
   "execution_count": null,
   "metadata": {},
   "outputs": [],
   "source": [
    "fig, ax = plt.subplots(figsize=(5,5), dpi=100)\n",
    "\n",
    "#ax.bar(bins[:-1], bin_contents * (bin_contents <= nominal_pd_quantile_level), width=(bins[1]-bins[0]), color=\"black\")\n",
    "#ax.set_ylabel(\"Number of PDs\")\n",
    "\n",
    "lowpdcounts = bin_contents[bin_contents <= nominal_pd_quantile_level]\n",
    "\n",
    "ax.hist(lowpdcounts, bins=range(max(lowpdcounts)+2), orientation=\"horizontal\", color=\"#00cc11\")\n",
    "ax.axhline(nominal_pd_quantile_level+1, color=\"black\", label=\"80%\")\n",
    "ax.set_xlabel(\"Number of bins\")\n",
    "ax.set_ylabel(\"PDs inside bin\")\n",
    "ax.legend()\n",
    "\n",
    "#clusterizer.plot.overlay_boolean_series(bin_contents <= nominal_pd_quantile_level, bins[:-1], ax=ax, color=\"#00ff11\")\n",
    "\n",
    "clusterizer.plot.save_figure_for_google_slides(pr+\"F\", reset_size=False)\n",
    "clusterizer.plot.save_figure_for_latex(pr+\"F\", reset_size=False)"
   ]
  },
  {
   "cell_type": "code",
   "execution_count": null,
   "metadata": {},
   "outputs": [],
   "source": [
    "fig, ax = plt.subplots(figsize=(5,5), dpi=100)\n",
    "\n",
    "#ax.bar(bins[:-1], bin_contents * (bin_contents <= nominal_pd_quantile_level), width=(bins[1]-bins[0]), color=\"black\")\n",
    "#ax.set_ylabel(\"Number of PDs\")\n",
    "\n",
    "\n",
    "\n",
    "\n",
    "lowpdcounts = bin_contents[bin_contents <= nominal_pd_quantile_level]\n",
    "mean = np.mean(lowpdcounts)\n",
    "\n",
    "y = np.arange(max(lowpdcounts)+2)\n",
    "\n",
    "counts,_,_=ax.hist(lowpdcounts, bins=y, orientation=\"horizontal\", color=\"#00cc11\")\n",
    "ax.plot(scipy.stats.poisson.pmf(y, mu=mean) * sum(counts), y, \"--\", color=\"red\", label=\"Poisson ML\")\n",
    "ax.plot(scipy.stats.poisson.pmf(y, mu=rate) * sum(counts), y, \"--\", color=\"blue\", label=\"Poisson naive\")\n",
    "ax.axhline(nominal_pd_quantile_level+1, color=\"black\", label=\"80%\")\n",
    "ax.set_xlabel(\"Number of bins\")\n",
    "ax.set_ylabel(\"PDs inside bin\")\n",
    "ax.legend()\n",
    "\n",
    "#clusterizer.plot.overlay_boolean_series(bin_contents <= nominal_pd_quantile_level, bins[:-1], ax=ax, color=\"#00ff11\")\n",
    "\n",
    "clusterizer.plot.save_figure_for_google_slides(pr+\"G\", reset_size=False)\n",
    "clusterizer.plot.save_figure_for_latex(pr+\"G\", reset_size=False)"
   ]
  },
  {
   "cell_type": "markdown",
   "metadata": {},
   "source": [
    "Sorteer de bakjes op inhoud, en beschouw de $\\eta=0.8=$80% van de bakjes met de minste inhoud. De grens die we empirisch vinden noemen we $M_{\\eta}$."
   ]
  },
  {
   "cell_type": "markdown",
   "metadata": {
    "scrolled": false
   },
   "source": [
    "## Wilde aanname 2:\n",
    "Het aantal PDs $X$ _op een nominaal stuk lijn_ is Poisson-verdeeld, $X \\sim P(\\lambda)$. Zó dat:\n",
    "\n",
    "$$\\mathbb{E}[X \\leq M_{\\eta}] = \\eta.$$\n",
    "\n",
    "(De kans dat X binnen de empirisch bepaalde 90% grens valt is exact 90%.)\n",
    "Dit betekent dat als we veel samples uit deze Poisson-verdeling nemen, en we zoeken de grens van 90%, dan vinden we dezelfde $M_{\\eta}$ en dan zouden we dezelfde $\\lambda$ kiezen.\n",
    "\n",
    "### Berekening $\\lambda$\n",
    "\n",
    "We kunnen de Poisson-verdling met parameter $\\lambda$ schatten met een normaalverdeling $N(\\mu = \\lambda, \\sigma^2 = \\lambda)$. Stel $Y$ is zo verdeeld.\n",
    "\n",
    "$$\\mathbb{E}[Y \\leq M_{\\eta}] = \\mathbb{E}[N(0,\\lambda) \\leq M_{\\eta} - \\lambda] = \\mathbb{E}[N(0,1) \\leq M_{\\eta}/\\sqrt{\\lambda} - \\sqrt{\\lambda}] = \\eta$$.\n",
    "\n",
    "Dus $M_{\\eta}/\\sqrt{\\lambda} - \\sqrt{\\lambda} = \\Phi(\\eta)$ en\n",
    "\n",
    "$$\\lambda = \\frac{1}{4}\\left(-\\Phi(\\eta) + \\sqrt{\\Phi(\\eta)^2 + 4M_{\\eta}}\\right)^2.$$\n",
    "\n",
    "($\\Phi$ is de inverse van de verdelingsfunctie(?) (CDF) van de standaard normaalverdeling.)"
   ]
  },
  {
   "cell_type": "markdown",
   "metadata": {},
   "source": [
    "## Wilde aanname 3:\n",
    "Op plekken waar een fout zit is het aantal PDs _abnormaal hoog, volgens de gevonden Poisson-verdeling_. Abnormaal = 5 op 100?"
   ]
  },
  {
   "cell_type": "code",
   "execution_count": null,
   "metadata": {},
   "outputs": [],
   "source": [
    "############ PARAMETER ############\n",
    "\n",
    "lower_limit_fault = 95.0 / 100.0\n",
    "\n",
    "###################################"
   ]
  },
  {
   "cell_type": "code",
   "execution_count": null,
   "metadata": {},
   "outputs": [],
   "source": [
    "if rate == 0.0:\n",
    "    # rate was zero: fault_pd_level should be zero, not nan\n",
    "    fault_pd_level = 0.0\n",
    "else:\n",
    "    # Als ik de ppf van de scipy.stats.poisson gebruik krijg ik alleen maar resultaten heel dichtbij M_{\\eta}\n",
    "    # dat hoort niet (toch?)\n",
    "    fault_pd_level = scipy.stats.norm.ppf(q=.95, loc=rate, scale=rate)\n",
    "\n",
    "fault_pd_level"
   ]
  },
  {
   "cell_type": "code",
   "execution_count": null,
   "metadata": {},
   "outputs": [],
   "source": [
    "fig, ax = plt.subplots(2,1, sharex=True, figsize=(8,6), dpi=100)\n",
    "\n",
    "plt.subplots_adjust(hspace=.1)\n",
    "\n",
    "ax[0].bar(bins[:-1], bin_contents, width=(bins[1]-bins[0]), color=\"black\")\n",
    "clusterizer.plot.draw_location_time_scatter(circuit, ax[1])\n",
    "ax[1].set_title(None)\n",
    "ax[0].set_ylabel(\"Number of PDs\")\n",
    "\n",
    "clusterizer.plot.overlay_boolean_series(bin_contents > fault_pd_level, bins[:-1], ax=ax[0], color=\"#ffcc11\", label=\"Highly suspicious\")\n",
    "clusterizer.plot.overlay_boolean_series(bin_contents > fault_pd_level, bins[:-1], ax=ax[1], color=\"#ffcc11\", label=\"Highly suspicious\")\n",
    "ax[0].legend()\n",
    "\n",
    "clusterizer.plot.save_figure_for_google_slides(pr+\"H\", reset_size=False)\n",
    "clusterizer.plot.save_figure_for_latex(pr+\"H\", reset_size=False)"
   ]
  },
  {
   "cell_type": "markdown",
   "metadata": {},
   "source": [
    "# Een simpel groupeeralgortime\n",
    "\n",
    "We hebben nu een deelverzameling $W$ van de locaties van de bakjes, waarop het aantal PDs met zekerheid abnormaal hoog is. Het is te zien dat bij pieken hier een rij opeenvolgende getallen in staat, maar soms mist er eentje.\n",
    "\n",
    "We definieren een cluster dmv twee parameters:\n",
    "* Een 'gat' in het cluster is maximaal $n_{skip} \\in \\mathbb{N}$ groot.\n",
    "* Het cluster heeft minimaal $m_{min} \\in \\mathbb{N}$ elementen.\n",
    "\n"
   ]
  },
  {
   "cell_type": "code",
   "execution_count": null,
   "metadata": {},
   "outputs": [],
   "source": [
    "# Found location clusters:\n",
    "rectangles"
   ]
  },
  {
   "cell_type": "code",
   "execution_count": null,
   "metadata": {},
   "outputs": [],
   "source": [
    "fig, ax = plt.subplots(**plotargs)\n",
    "\n",
    "clusterizer.plot.draw_location_time_scatter(circuit, ax)\n",
    "clusterizer.plot.overlay_cluster(rectangles, ax)\n",
    "if rectangles:\n",
    "    clusterizer.plot.legend_without_duplicate_labels(ax)\n",
    "\n",
    "\n",
    "\n",
    "clusterizer.plot.save_figure_for_google_slides(pr+\"I\", reset_size=False)\n",
    "clusterizer.plot.save_figure_for_latex(pr+\"I\", reset_size=False)"
   ]
  },
  {
   "cell_type": "markdown",
   "metadata": {},
   "source": [
    "# Conclusie\n",
    "\n",
    "Het werkt goed!\n",
    "Door eerst de 80% marge te zoeken, en dan de onderste 80% te gebruiken om een verdeling te fitten, kan de ruis _gebruikt worden om te bepalen hoe bijzonder de uitschieters zijn_. Hierdoor vindt het bijvoorbeeld 0 clusters in de laatste sets (wat de bedoeling is).\n",
    "\n",
    "In het tweede circuit wordt een cluster niet gevonden. Ik denk dat dit is omdat dat cluster maar korte duur had, en daarom in de lange dataset minder opvalt. (Er wordt namelijk gesommeerd over de volledige tijdreeks.) Dit kan overkomen worden door het algoritme los toe te passen op elke maand, bijvoorbeeld."
   ]
  }
 ],
 "metadata": {
  "kernelspec": {
   "display_name": "venv",
   "language": "python",
   "name": "venv"
  },
  "language_info": {
   "codemirror_mode": {
    "name": "ipython",
    "version": 3
   },
   "file_extension": ".py",
   "mimetype": "text/x-python",
   "name": "python",
   "nbconvert_exporter": "python",
   "pygments_lexer": "ipython3",
   "version": "3.7.0"
  }
 },
 "nbformat": 4,
 "nbformat_minor": 2
}
