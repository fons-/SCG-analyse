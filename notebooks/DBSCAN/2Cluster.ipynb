{
 "cells": [
  {
   "cell_type": "code",
   "execution_count": 1,
   "metadata": {},
   "outputs": [],
   "source": [
    "from pathlib import Path\n",
    "import pandas as pd\n",
    "import numpy as np\n",
    "import matplotlib.pyplot as plt\n",
    "import datetime\n",
    "\n",
    "%config InlineBackend.figure_format = 'retina'\n",
    "plt.rcParams['figure.figsize'] = [12, 6]"
   ]
  },
  {
   "cell_type": "code",
   "execution_count": 2,
   "metadata": {},
   "outputs": [],
   "source": [
    "data_path = \"../../data/origineel\"\n",
    "\n",
    "if not Path(data_path).is_dir():\n",
    "    raise Warning(\"Data path does not exist\")"
   ]
  },
  {
   "cell_type": "code",
   "execution_count": 5,
   "metadata": {},
   "outputs": [],
   "source": [
    "data_file_paths = [p for p in Path(data_path).iterdir() if p.suffix==\".csv\"]"
   ]
  },
  {
   "cell_type": "code",
   "execution_count": 10,
   "metadata": {},
   "outputs": [],
   "source": [
    "cableconfig = pd.read_csv(data_file_paths[3], sep=\";\")\n",
    "partialdischarges = pd.read_csv(data_file_paths[4], sep=\";\")\n",
    "warning = pd.read_csv(data_file_paths[5], sep=\";\")"
   ]
  },
  {
   "cell_type": "code",
   "execution_count": 11,
   "metadata": {},
   "outputs": [],
   "source": [
    "# Namen van de kolommen\n",
    "time_col, location_col, charge_col = partialdischarges.columns\n",
    "\n",
    "# Check that each row either has location and charge undefinied, or both defined:\n",
    "for i in np.arange(len(partialdischarges))[np.isnan(partialdischarges[location_col]) != np.isnan(partialdischarges[charge_col])]:\n",
    "    raise Warning(f\"Row {i} has missing values\")\n",
    "\n",
    "# Lijst met bools die aangeeft of er op dat tijdstip een PD was\n",
    "pd_occured = ~np.isnan(partialdischarges[location_col])\n",
    "\n",
    "# De drie kolommen; alleen op tijdstippen met PD\n",
    "locations = partialdischarges[location_col][pd_occured]\n",
    "charges = partialdischarges[charge_col][pd_occured]\n",
    "times = partialdischarges[time_col][pd_occured].apply(datetime.datetime.fromisoformat)"
   ]
  },
  {
   "cell_type": "code",
   "execution_count": 12,
   "metadata": {},
   "outputs": [
    {
     "data": {
      "text/plain": [
       "382          0.000000\n",
       "1111      1869.181579\n",
       "1229      1424.902004\n",
       "1290       235.358102\n",
       "1331      1524.610363\n",
       "1599         0.000000\n",
       "1936      1162.877714\n",
       "2009       351.298053\n",
       "2202       309.559671\n",
       "2296      1350.700435\n",
       "2945      1827.443196\n",
       "3073      2295.840600\n",
       "3300      2295.840600\n",
       "3305       219.126508\n",
       "3322      1343.744038\n",
       "3473      2295.840600\n",
       "3523      1325.193646\n",
       "3550      1524.610363\n",
       "3554      1820.486799\n",
       "3623      2295.840600\n",
       "3631      2295.840600\n",
       "3866      1503.741171\n",
       "3897      2295.840600\n",
       "4257      2295.840600\n",
       "4499      2295.840600\n",
       "4749      1525.000000\n",
       "4999      2295.840600\n",
       "5134      1455.046392\n",
       "5249      1181.428106\n",
       "5771       311.878470\n",
       "             ...     \n",
       "365373    2050.955875\n",
       "365489    2297.835474\n",
       "365597    1159.838169\n",
       "365705    1733.494927\n",
       "365858     180.501593\n",
       "365949     950.223416\n",
       "365959       0.000000\n",
       "366050    2297.835474\n",
       "366217     894.326148\n",
       "366250    1964.780921\n",
       "366311     856.095887\n",
       "366734    1197.103014\n",
       "366832    2146.447041\n",
       "366888     376.142030\n",
       "367108     588.085836\n",
       "367204     814.172936\n",
       "367711     630.177763\n",
       "367734    2134.801776\n",
       "367829    2297.835474\n",
       "367871     861.494593\n",
       "368064     103.642850\n",
       "368065     271.334653\n",
       "368311    2297.835474\n",
       "368492    1150.521958\n",
       "368493    1199.432067\n",
       "368618    1462.615035\n",
       "368691    2281.532104\n",
       "368822    1215.735437\n",
       "368834      57.061794\n",
       "368840    2297.835474\n",
       "Name: Location in meters (m), Length: 13941, dtype: float64"
      ]
     },
     "execution_count": 12,
     "metadata": {},
     "output_type": "execute_result"
    }
   ],
   "source": [
    "locations"
   ]
  },
  {
   "cell_type": "code",
   "execution_count": 75,
   "metadata": {},
   "outputs": [],
   "source": [
    "\n",
    "def neighbors(DB, Q, eps):\n",
    "    min = Q - eps\n",
    "    max = Q + eps\n",
    "    neighborhood = DB[DB>min][DB<max]\n",
    "    return len(neighborhood)\n",
    "\n",
    "\n",
    "def DBSCAN(DB, minPts, eps):\n",
    "    a = DB.sort_values()\n",
    "    C=[]\n",
    "    for x in a:\n",
    "        N = neighbors(a, x, eps)\n",
    "        if N>minPts:\n",
    "            C.append(x)\n",
    "        if N<minPts and len(C)>0:\n",
    "                print(sum(C)/len(C))\n",
    "                C=[]\n",
    "    \n",
    "        \n",
    "            \n",
    "            \n",
    "            "
   ]
  },
  {
   "cell_type": "code",
   "execution_count": 77,
   "metadata": {},
   "outputs": [
    {
     "name": "stdout",
     "output_type": "stream",
     "text": [
      "2.6343186930436095\n",
      "348.5537491027943\n",
      "526.2855036385342\n",
      "605.4276822062487\n",
      "Wall time: 51.6 s\n"
     ]
    }
   ],
   "source": [
    "%%time\n",
    "DBSCAN(locations, 50, 1)"
   ]
  }
 ],
 "metadata": {
  "kernelspec": {
   "display_name": "venv",
   "language": "python",
   "name": "venv"
  },
  "language_info": {
   "codemirror_mode": {
    "name": "ipython",
    "version": 3
   },
   "file_extension": ".py",
   "mimetype": "text/x-python",
   "name": "python",
   "nbconvert_exporter": "python",
   "pygments_lexer": "ipython3",
   "version": "3.7.0"
  }
 },
 "nbformat": 4,
 "nbformat_minor": 2
}
